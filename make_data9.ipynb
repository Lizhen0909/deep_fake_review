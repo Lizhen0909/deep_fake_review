{
 "cells": [
  {
   "cell_type": "code",
   "execution_count": 1,
   "metadata": {},
   "outputs": [
    {
     "name": "stdout",
     "output_type": "stream",
     "text": [
      "Populating the interactive namespace from numpy and matplotlib\n"
     ]
    }
   ],
   "source": [
    "import os,sys\n",
    "%pylab inline"
   ]
  },
  {
   "cell_type": "code",
   "execution_count": 3,
   "metadata": {},
   "outputs": [],
   "source": [
    "from skimage.transform import resize\n",
    "from skimage.io import imsave, imread\n"
   ]
  },
  {
   "cell_type": "code",
   "execution_count": 12,
   "metadata": {},
   "outputs": [],
   "source": [
    "files1 = !cd data/data2 && find . -name \\*.png\n",
    "files2 = !cd data/data2 &&  find . -name \\*.jpg\n",
    "files=files1+files2"
   ]
  },
  {
   "cell_type": "code",
   "execution_count": 13,
   "metadata": {
    "scrolled": true
   },
   "outputs": [
    {
     "data": {
      "text/plain": [
       "74337"
      ]
     },
     "execution_count": 13,
     "metadata": {},
     "output_type": "execute_result"
    }
   ],
   "source": [
    "len(files)"
   ]
  },
  {
   "cell_type": "code",
   "execution_count": 14,
   "metadata": {},
   "outputs": [
    {
     "data": {
      "text/plain": [
       "['./stargan/image_1188.png',\n",
       " './stargan/image_1060.png',\n",
       " './stargan/image_209.png']"
      ]
     },
     "execution_count": 14,
     "metadata": {},
     "output_type": "execute_result"
    }
   ],
   "source": [
    "files[:3]"
   ]
  },
  {
   "cell_type": "code",
   "execution_count": 41,
   "metadata": {},
   "outputs": [],
   "source": [
    "def g(img):\n",
    "    h,w=img.shape[:2]\n",
    "    if (h<=256) and w<=256:\n",
    "        return img\n",
    "    else:\n",
    "        r= np.max([h/256.0, w/256.0])\n",
    "        newh = int(h/r)\n",
    "        neww=int(w/r)\n",
    "        #print(h,w,r, newh,neww)\n",
    "        return resize(img, (newh, neww), anti_aliasing=True)"
   ]
  },
  {
   "cell_type": "code",
   "execution_count": 42,
   "metadata": {
    "scrolled": false
   },
   "outputs": [],
   "source": [
    "for fname in files:\n",
    "    #fname='ffhq/00011.png'\n",
    "    img=imread(\"data/data2/\"+fname)\n",
    "    #plt.imshow(img);plt.show()\n",
    "    #print(img.shape)\n",
    "    img=g(img)\n",
    "    img=(img*255).astype(np.uint8)\n",
    "    #plt.imshow(img)\n",
    "    dest='data/data9/'+fname\n",
    "    dirname=os.path.dirname(dest)\n",
    "    if not os.path.exists(dirname):\n",
    "        os.mkdir(dirname)\n",
    "    imsave(dest,img)\n",
    "        \n",
    "    #print(dirname, dest)\n",
    "    #break"
   ]
  },
  {
   "cell_type": "code",
   "execution_count": null,
   "metadata": {},
   "outputs": [],
   "source": []
  }
 ],
 "metadata": {
  "kernelspec": {
   "display_name": "Python 3",
   "language": "python",
   "name": "python3"
  },
  "language_info": {
   "codemirror_mode": {
    "name": "ipython",
    "version": 3
   },
   "file_extension": ".py",
   "mimetype": "text/x-python",
   "name": "python",
   "nbconvert_exporter": "python",
   "pygments_lexer": "ipython3",
   "version": "3.7.4"
  }
 },
 "nbformat": 4,
 "nbformat_minor": 2
}
