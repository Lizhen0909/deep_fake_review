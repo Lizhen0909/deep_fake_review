{
 "cells": [
  {
   "cell_type": "code",
   "execution_count": 1,
   "metadata": {},
   "outputs": [],
   "source": [
    "import os,sys"
   ]
  },
  {
   "cell_type": "code",
   "execution_count": 2,
   "metadata": {},
   "outputs": [],
   "source": [
    "files1=!find  `pwd`/data/DFGC-2021-crop/ -name \\*.jpg \n",
    "files2=!find `pwd`/data/DFGC-2021-crop/ -name \\*.png \n",
    "files=files1+files2 "
   ]
  },
  {
   "cell_type": "code",
   "execution_count": 3,
   "metadata": {},
   "outputs": [
    {
     "data": {
      "text/plain": [
       "18000"
      ]
     },
     "execution_count": 3,
     "metadata": {},
     "output_type": "execute_result"
    }
   ],
   "source": [
    "len(files)"
   ]
  },
  {
   "cell_type": "code",
   "execution_count": 4,
   "metadata": {},
   "outputs": [
    {
     "data": {
      "text/plain": [
       "['/global/home/users/lizhen/mydev/deep_fake_review/data/DFGC-2021-crop/yZzzzzz_849853/id24_id26_0004_00060.jpg',\n",
       " '/global/home/users/lizhen/mydev/deep_fake_review/data/DFGC-2021-crop/yZzzzzz_849853/id28_id0_0009_00120.jpg',\n",
       " '/global/home/users/lizhen/mydev/deep_fake_review/data/DFGC-2021-crop/yZzzzzz_849853/id9_id6_0005_00060.jpg']"
      ]
     },
     "execution_count": 4,
     "metadata": {},
     "output_type": "execute_result"
    }
   ],
   "source": [
    "files[:3]"
   ]
  },
  {
   "cell_type": "code",
   "execution_count": 5,
   "metadata": {},
   "outputs": [],
   "source": [
    "NAME='patch-forensics'"
   ]
  },
  {
   "cell_type": "code",
   "execution_count": 6,
   "metadata": {},
   "outputs": [],
   "source": [
    "with open('/tmp/inputlist_{}'.format(NAME), 'wt') as f:\n",
    "    f.write(\"\\n\".join(files))"
   ]
  },
  {
   "cell_type": "code",
   "execution_count": 7,
   "metadata": {},
   "outputs": [
    {
     "name": "stdout",
     "output_type": "stream",
     "text": [
      "/global/home/users/lizhen/mydev/deep_fake_review/data/DFGC-2021-crop/yZzzzzz_849853/id24_id26_0004_00060.jpg\r\n",
      "/global/home/users/lizhen/mydev/deep_fake_review/data/DFGC-2021-crop/yZzzzzz_849853/id28_id0_0009_00120.jpg\r\n",
      "/global/home/users/lizhen/mydev/deep_fake_review/data/DFGC-2021-crop/yZzzzzz_849853/id9_id6_0005_00060.jpg\r\n"
     ]
    }
   ],
   "source": [
    "!head -n 3 /tmp/inputlist_$NAME"
   ]
  },
  {
   "cell_type": "code",
   "execution_count": 8,
   "metadata": {},
   "outputs": [],
   "source": [
    "!mkdir -p results/$NAME"
   ]
  },
  {
   "cell_type": "code",
   "execution_count": 37,
   "metadata": {
    "scrolled": true
   },
   "outputs": [
    {
     "name": "stdout",
     "output_type": "stream",
     "text": [
      "Using the following options from the train configuration file:\n",
      "[('batch_size', 32), ('checkpoints_dir', './checkpoints'), ('fake_class_id', 0), ('fineSize', 299), ('init_type', 'xavier'), ('isTrain', True), ('loadSize', 299), ('load_model', False), ('max_dataset_size', inf), ('model', 'patch_discriminator'), ('nThreads', 4), ('name', 'gp1-gan-winversion_seed0_xception_block2_constant_p20'), ('no_serial_batches', False), ('overwrite_config', False), ('prefix', ''), ('results_dir', './results/'), ('seed', 0), ('suffix', ''), ('which_model_netD', 'xception_block2')]\n",
      "Evaluating model: gp1-gan-winversion_seed0_xception_block2_constant_p20 epoch bestval\n",
      "On dataset (real): useless\n",
      "And dataset (fake): useless2\n",
      "initialize network with xavier\n",
      "model [PatchDiscriminatorModel] was created\n",
      "---------- Networks initialized -------------\n",
      "CustomXceptionNet(\n",
      "  (conv1): Conv2d(3, 32, kernel_size=(3, 3), stride=(2, 2), bias=False)\n",
      "  (bn1): BatchNorm2d(32, eps=1e-05, momentum=0.1, affine=True, track_running_stats=True)\n",
      "  (relu1): ReLU(inplace=True)\n",
      "  (conv2): Conv2d(32, 64, kernel_size=(3, 3), stride=(1, 1), bias=False)\n",
      "  (bn2): BatchNorm2d(64, eps=1e-05, momentum=0.1, affine=True, track_running_stats=True)\n",
      "  (relu2): ReLU(inplace=True)\n",
      "  (block1): Block(\n",
      "    (skip): Conv2d(64, 128, kernel_size=(1, 1), stride=(2, 2), bias=False)\n",
      "    (skipbn): BatchNorm2d(128, eps=1e-05, momentum=0.1, affine=True, track_running_stats=True)\n",
      "    (rep): Sequential(\n",
      "      (0): SeparableConv2d(\n",
      "        (conv1): Conv2d(64, 64, kernel_size=(3, 3), stride=(1, 1), padding=(1, 1), groups=64, bias=False)\n",
      "        (pointwise): Conv2d(64, 128, kernel_size=(1, 1), stride=(1, 1), bias=False)\n",
      "      )\n",
      "      (1): BatchNorm2d(128, eps=1e-05, momentum=0.1, affine=True, track_running_stats=True)\n",
      "      (2): ReLU(inplace=True)\n",
      "      (3): SeparableConv2d(\n",
      "        (conv1): Conv2d(128, 128, kernel_size=(3, 3), stride=(1, 1), padding=(1, 1), groups=128, bias=False)\n",
      "        (pointwise): Conv2d(128, 128, kernel_size=(1, 1), stride=(1, 1), bias=False)\n",
      "      )\n",
      "      (4): BatchNorm2d(128, eps=1e-05, momentum=0.1, affine=True, track_running_stats=True)\n",
      "      (5): MaxPool2d(kernel_size=3, stride=2, padding=1, dilation=1, ceil_mode=False)\n",
      "    )\n",
      "  )\n",
      "  (block2): Block(\n",
      "    (skip): Conv2d(128, 256, kernel_size=(1, 1), stride=(2, 2), bias=False)\n",
      "    (skipbn): BatchNorm2d(256, eps=1e-05, momentum=0.1, affine=True, track_running_stats=True)\n",
      "    (rep): Sequential(\n",
      "      (0): ReLU()\n",
      "      (1): SeparableConv2d(\n",
      "        (conv1): Conv2d(128, 128, kernel_size=(3, 3), stride=(1, 1), padding=(1, 1), groups=128, bias=False)\n",
      "        (pointwise): Conv2d(128, 256, kernel_size=(1, 1), stride=(1, 1), bias=False)\n",
      "      )\n",
      "      (2): BatchNorm2d(256, eps=1e-05, momentum=0.1, affine=True, track_running_stats=True)\n",
      "      (3): ReLU(inplace=True)\n",
      "      (4): SeparableConv2d(\n",
      "        (conv1): Conv2d(256, 256, kernel_size=(3, 3), stride=(1, 1), padding=(1, 1), groups=256, bias=False)\n",
      "        (pointwise): Conv2d(256, 256, kernel_size=(1, 1), stride=(1, 1), bias=False)\n",
      "      )\n",
      "      (5): BatchNorm2d(256, eps=1e-05, momentum=0.1, affine=True, track_running_stats=True)\n",
      "      (6): MaxPool2d(kernel_size=3, stride=2, padding=1, dilation=1, ceil_mode=False)\n",
      "    )\n",
      "  )\n",
      "  (convout): Conv2d(256, 2, kernel_size=(1, 1), stride=(1, 1))\n",
      ")\n",
      "[Network D] Total number of parameters : 0.191 M\n",
      "-----------------------------------------------\n",
      "loading the model from ./checkpoints/gp1-gan-winversion_seed0_xception_block2_constant_p20/bestval_net_D.pth\n",
      "gpuid= []\n",
      "num of images= 18000\n",
      "Compose(\n",
      "    Resize(size=299, interpolation=PIL.Image.LANCZOS)\n",
      "    CenterCrop(size=(299, 299))\n",
      "    ToTensor()\n",
      "    Normalize(mean=(0.5, 0.5, 0.5), std=(0.5, 0.5, 0.5))\n",
      ")\n",
      "\n",
      "CPU times: user 8.24 s, sys: 1.57 s, total: 9.81 s\n",
      "Wall time: 10min 16s\n"
     ]
    }
   ],
   "source": [
    "%%time\n",
    "!cd $NAME && \\\n",
    "PYTHONPATH=. conda run -n $NAME \\\n",
    "python  ../run_patch-forensics.py \\\n",
    "-i /tmp/inputlist_$NAME \\\n",
    "--output ../results/$NAME/dfgc2021.txt \\\n",
    "--gpu_ids \"-1\" --which_epoch bestval \\\n",
    "--train_config checkpoints/gp1-gan-winversion_seed0_xception_block2_constant_p20/opt.yml \\\n",
    "--dataset_name donot_know --real_im_path useless --fake_im_path useless2 --partition useless"
   ]
  },
  {
   "cell_type": "code",
   "execution_count": 38,
   "metadata": {},
   "outputs": [
    {
     "name": "stdout",
     "output_type": "stream",
     "text": [
      "18000 results/patch-forensics/dfgc2021.txt\r\n"
     ]
    }
   ],
   "source": [
    "!wc -l  results/$NAME/dfgc2021.txt"
   ]
  },
  {
   "cell_type": "code",
   "execution_count": 39,
   "metadata": {},
   "outputs": [
    {
     "name": "stdout",
     "output_type": "stream",
     "text": [
      "/global/home/users/lizhen/mydev/deep_fake_review/data/DFGC-2021-crop/yZzzzzz_849853/id24_id26_0004_00060.jpg,0.0942,0.0003,0.1094\r\n",
      "/global/home/users/lizhen/mydev/deep_fake_review/data/DFGC-2021-crop/yZzzzzz_849853/id28_id0_0009_00120.jpg,0.2316,0.0012,0.2348\r\n",
      "/global/home/users/lizhen/mydev/deep_fake_review/data/DFGC-2021-crop/yZzzzzz_849853/id9_id6_0005_00060.jpg,0.1461,0.0004,0.1544\r\n",
      "/global/home/users/lizhen/mydev/deep_fake_review/data/DFGC-2021-crop/yZzzzzz_849853/id30_id3_0006_00060.jpg,0.3258,0.0256,0.3297\r\n",
      "/global/home/users/lizhen/mydev/deep_fake_review/data/DFGC-2021-crop/yZzzzzz_849853/id24_id20_0009_00000.jpg,0.0438,0.0001,0.0575\r\n",
      "/global/home/users/lizhen/mydev/deep_fake_review/data/DFGC-2021-crop/yZzzzzz_849853/id13_id10_0005_00120.jpg,0.1132,0.0001,0.1230\r\n",
      "/global/home/users/lizhen/mydev/deep_fake_review/data/DFGC-2021-crop/yZzzzzz_849853/id30_id23_0007_00120.jpg,0.1899,0.0025,0.1991\r\n",
      "/global/home/users/lizhen/mydev/deep_fake_review/data/DFGC-2021-crop/yZzzzzz_849853/id9_id20_0002_00060.jpg,0.1395,0.0013,0.1526\r\n",
      "/global/home/users/lizhen/mydev/deep_fake_review/data/DFGC-2021-crop/yZzzzzz_849853/id0_id16_0003_00120.jpg,0.2337,0.0017,0.2416\r\n",
      "/global/home/users/lizhen/mydev/deep_fake_review/data/DFGC-2021-crop/yZzzzzz_849853/id30_id21_0005_00120.jpg,0.1994,0.0087,0.2195\r\n"
     ]
    }
   ],
   "source": [
    "!head results/$NAME/dfgc2021.txt"
   ]
  },
  {
   "cell_type": "code",
   "execution_count": null,
   "metadata": {},
   "outputs": [],
   "source": []
  }
 ],
 "metadata": {
  "kernelspec": {
   "display_name": "Python 3",
   "language": "python",
   "name": "python3"
  },
  "language_info": {
   "codemirror_mode": {
    "name": "ipython",
    "version": 3
   },
   "file_extension": ".py",
   "mimetype": "text/x-python",
   "name": "python",
   "nbconvert_exporter": "python",
   "pygments_lexer": "ipython3",
   "version": "3.7.4"
  }
 },
 "nbformat": 4,
 "nbformat_minor": 2
}
