{
 "cells": [
  {
   "cell_type": "code",
   "execution_count": 1,
   "metadata": {},
   "outputs": [],
   "source": [
    "import os,sys"
   ]
  },
  {
   "cell_type": "code",
   "execution_count": 2,
   "metadata": {},
   "outputs": [],
   "source": [
    "files1=!find  `pwd`/data/DFGC-2021-crop/ -name \\*.jpg \n",
    "files2=!find `pwd`/data/DFGC-2021-crop/ -name \\*.png \n",
    "files=files1+files2 "
   ]
  },
  {
   "cell_type": "code",
   "execution_count": 3,
   "metadata": {},
   "outputs": [
    {
     "data": {
      "text/plain": [
       "18000"
      ]
     },
     "execution_count": 3,
     "metadata": {},
     "output_type": "execute_result"
    }
   ],
   "source": [
    "len(files)"
   ]
  },
  {
   "cell_type": "code",
   "execution_count": 4,
   "metadata": {},
   "outputs": [
    {
     "data": {
      "text/plain": [
       "['/global/home/users/lizhen/mydev/deep_fake_review/data/DFGC-2021-crop/yZzzzzz_849853/id24_id26_0004_00060.jpg',\n",
       " '/global/home/users/lizhen/mydev/deep_fake_review/data/DFGC-2021-crop/yZzzzzz_849853/id28_id0_0009_00120.jpg',\n",
       " '/global/home/users/lizhen/mydev/deep_fake_review/data/DFGC-2021-crop/yZzzzzz_849853/id9_id6_0005_00060.jpg']"
      ]
     },
     "execution_count": 4,
     "metadata": {},
     "output_type": "execute_result"
    }
   ],
   "source": [
    "files[:3]"
   ]
  },
  {
   "cell_type": "code",
   "execution_count": 5,
   "metadata": {},
   "outputs": [],
   "source": [
    "NAME='MesoNet'"
   ]
  },
  {
   "cell_type": "code",
   "execution_count": 6,
   "metadata": {},
   "outputs": [],
   "source": [
    "with open('/tmp/inputlist_{}'.format(NAME), 'wt') as f:\n",
    "    f.write(\"\\n\".join(files))"
   ]
  },
  {
   "cell_type": "code",
   "execution_count": 7,
   "metadata": {},
   "outputs": [
    {
     "name": "stdout",
     "output_type": "stream",
     "text": [
      "/global/home/users/lizhen/mydev/deep_fake_review/data/DFGC-2021-crop/yZzzzzz_849853/id24_id26_0004_00060.jpg\r\n",
      "/global/home/users/lizhen/mydev/deep_fake_review/data/DFGC-2021-crop/yZzzzzz_849853/id28_id0_0009_00120.jpg\r\n",
      "/global/home/users/lizhen/mydev/deep_fake_review/data/DFGC-2021-crop/yZzzzzz_849853/id9_id6_0005_00060.jpg\r\n"
     ]
    }
   ],
   "source": [
    "!head -n 3 /tmp/inputlist_$NAME"
   ]
  },
  {
   "cell_type": "code",
   "execution_count": 8,
   "metadata": {},
   "outputs": [],
   "source": [
    "!mkdir -p results/$NAME"
   ]
  },
  {
   "cell_type": "code",
   "execution_count": 15,
   "metadata": {
    "scrolled": true
   },
   "outputs": [
    {
     "name": "stdout",
     "output_type": "stream",
     "text": [
      "num of images= 18000\n",
      "loaded model\n",
      "Found 18000 validated image filenames belonging to 2 classes.\n",
      "begin predit\n",
      "processed 18000 images\n",
      "\n",
      "WARNING:tensorflow:From /global/home/users/lizhen/.conda/envs/MesoNet/lib/python3.5/site-packages/tensorflow/python/ops/resource_variable_ops.py:435: colocate_with (from tensorflow.python.framework.ops) is deprecated and will be removed in a future version.\n",
      "Instructions for updating:\n",
      "Colocations handled automatically by placer.\n",
      "WARNING:tensorflow:From /global/home/users/lizhen/.conda/envs/MesoNet/lib/python3.5/site-packages/tensorflow/python/keras/layers/core.py:143: calling dropout (from tensorflow.python.ops.nn_ops) with keep_prob is deprecated and will be removed in a future version.\n",
      "Instructions for updating:\n",
      "Please use `rate` instead of `keep_prob`. Rate should be set to `rate = 1 - keep_prob`.\n",
      "WARNING:tensorflow:From /global/home/users/lizhen/.conda/envs/MesoNet/lib/python3.5/site-packages/tensorflow/python/keras/utils/losses_utils.py:170: to_float (from tensorflow.python.ops.math_ops) is deprecated and will be removed in a future version.\n",
      "Instructions for updating:\n",
      "Use tf.cast instead.\n",
      "2021-08-12 16:22:09.358830: I tensorflow/core/platform/cpu_feature_guard.cc:141] Your CPU supports instructions that this TensorFlow binary was not compiled to use: AVX2 AVX512F FMA\n",
      "2021-08-12 16:22:09.364920: I tensorflow/core/platform/profile_utils/cpu_utils.cc:94] CPU Frequency: 2100000000 Hz\n",
      "2021-08-12 16:22:09.366818: I tensorflow/compiler/xla/service/service.cc:150] XLA service 0x57c9120 executing computations on platform Host. Devices:\n",
      "2021-08-12 16:22:09.366844: I tensorflow/compiler/xla/service/service.cc:158]   StreamExecutor device (0): <undefined>, <undefined>\n",
      " 99%|#########9| 140/141 [01:33<00:00,  1.50it/s]\n",
      "\n",
      "CPU times: user 1.78 s, sys: 399 ms, total: 2.18 s\n",
      "Wall time: 1min 40s\n"
     ]
    }
   ],
   "source": [
    "%%time\n",
    "!cd $NAME && \\\n",
    "PYTHONPATH=. conda run -n $NAME \\\n",
    "python  ../run_MesoNet_example.py \\\n",
    "-i /tmp/inputlist_$NAME \\\n",
    "--output ../results/$NAME/dfgc2021.txt"
   ]
  },
  {
   "cell_type": "code",
   "execution_count": 16,
   "metadata": {},
   "outputs": [
    {
     "name": "stdout",
     "output_type": "stream",
     "text": [
      "18000 results/MesoNet/dfgc2021.txt\r\n"
     ]
    }
   ],
   "source": [
    "!wc -l  results/$NAME/dfgc2021.txt"
   ]
  },
  {
   "cell_type": "code",
   "execution_count": 17,
   "metadata": {},
   "outputs": [
    {
     "name": "stdout",
     "output_type": "stream",
     "text": [
      "/global/home/users/lizhen/mydev/deep_fake_review/data/DFGC-2021-crop/yZzzzzz_849853/id24_id26_0004_00060.jpg,0.24858588\r\n",
      "/global/home/users/lizhen/mydev/deep_fake_review/data/DFGC-2021-crop/yZzzzzz_849853/id28_id0_0009_00120.jpg,0.027256161\r\n",
      "/global/home/users/lizhen/mydev/deep_fake_review/data/DFGC-2021-crop/yZzzzzz_849853/id9_id6_0005_00060.jpg,0.4777371\r\n",
      "/global/home/users/lizhen/mydev/deep_fake_review/data/DFGC-2021-crop/yZzzzzz_849853/id30_id3_0006_00060.jpg,0.015748292\r\n",
      "/global/home/users/lizhen/mydev/deep_fake_review/data/DFGC-2021-crop/yZzzzzz_849853/id24_id20_0009_00000.jpg,0.4715867\r\n",
      "/global/home/users/lizhen/mydev/deep_fake_review/data/DFGC-2021-crop/yZzzzzz_849853/id13_id10_0005_00120.jpg,0.36313015\r\n",
      "/global/home/users/lizhen/mydev/deep_fake_review/data/DFGC-2021-crop/yZzzzzz_849853/id30_id23_0007_00120.jpg,0.10385254\r\n",
      "/global/home/users/lizhen/mydev/deep_fake_review/data/DFGC-2021-crop/yZzzzzz_849853/id9_id20_0002_00060.jpg,0.122102916\r\n",
      "/global/home/users/lizhen/mydev/deep_fake_review/data/DFGC-2021-crop/yZzzzzz_849853/id0_id16_0003_00120.jpg,0.036118686\r\n",
      "/global/home/users/lizhen/mydev/deep_fake_review/data/DFGC-2021-crop/yZzzzzz_849853/id30_id21_0005_00120.jpg,0.022080928\r\n"
     ]
    }
   ],
   "source": [
    "!head results/$NAME/dfgc2021.txt"
   ]
  },
  {
   "cell_type": "code",
   "execution_count": null,
   "metadata": {},
   "outputs": [],
   "source": []
  }
 ],
 "metadata": {
  "kernelspec": {
   "display_name": "Python 3",
   "language": "python",
   "name": "python3"
  },
  "language_info": {
   "codemirror_mode": {
    "name": "ipython",
    "version": 3
   },
   "file_extension": ".py",
   "mimetype": "text/x-python",
   "name": "python",
   "nbconvert_exporter": "python",
   "pygments_lexer": "ipython3",
   "version": "3.7.4"
  }
 },
 "nbformat": 4,
 "nbformat_minor": 2
}
