{
 "cells": [
  {
   "cell_type": "code",
   "execution_count": 1,
   "metadata": {},
   "outputs": [
    {
     "name": "stdout",
     "output_type": "stream",
     "text": [
      "Populating the interactive namespace from numpy and matplotlib\n"
     ]
    }
   ],
   "source": [
    "%pylab inline\n",
    "import pandas as pd\n",
    "import json\n",
    "from sklearn.metrics import confusion_matrix\n",
    "from sklearn.metrics import roc_auc_score\n",
    "from sklearn import metrics"
   ]
  },
  {
   "cell_type": "code",
   "execution_count": 2,
   "metadata": {},
   "outputs": [],
   "source": [
    "def plot_roc(y_test, preds):\n",
    "    fpr, tpr, threshold = metrics.roc_curve(y_test, preds)\n",
    "    roc_auc = metrics.auc(fpr, tpr)\n",
    "\n",
    "    plt.title('Receiver Operating Characteristic')\n",
    "    plt.plot(fpr, tpr, 'b', label = 'AUC = %0.2f' % roc_auc)\n",
    "    plt.legend(loc = 'lower right')\n",
    "    plt.plot([0, 1], [0, 1],'r--')\n",
    "    plt.xlim([0, 1])\n",
    "    plt.ylim([0, 1])\n",
    "    plt.ylabel('True Positive Rate')\n",
    "    plt.xlabel('False Positive Rate')\n",
    "    plt.show()\n"
   ]
  },
  {
   "cell_type": "code",
   "execution_count": 21,
   "metadata": {},
   "outputs": [],
   "source": [
    "files=!find results/ -name \\*.txt |grep dfgc"
   ]
  },
  {
   "cell_type": "code",
   "execution_count": 22,
   "metadata": {},
   "outputs": [
    {
     "data": {
      "text/plain": [
       "['results/Capsule-Forensics-v2/dfgc2021.txt',\n",
       " 'results/ClassNSeg/dfgc2021.txt',\n",
       " 'results/MesoNet/dfgc2021.txt',\n",
       " 'results/patch-forensics/dfgc2021.txt',\n",
       " 'results/CNNDetection/dfgc2021.txt',\n",
       " 'results/adversarial_deepfakes/dfgc2021.txt']"
      ]
     },
     "execution_count": 22,
     "metadata": {},
     "output_type": "execute_result"
    }
   ],
   "source": [
    "files"
   ]
  },
  {
   "cell_type": "markdown",
   "metadata": {},
   "source": [
    "# results/adversarial_deepfakes/dfgc2021.txt"
   ]
  },
  {
   "cell_type": "code",
   "execution_count": 23,
   "metadata": {},
   "outputs": [],
   "source": [
    "df=pd.read_csv('results/adversarial_deepfakes/dfgc2021.txt', index_col=0, header=None)\n",
    "df['probability']=df[1]\n",
    "df['label']=df.index.map(lambda x: int('real' in x))\n",
    "df['pred']= (df['probability']>0.5).astype(np.int)\n",
    "df['dataset']=df.index.map(lambda u: u.split('/')[-2])\n",
    "df['correct']=(df['label']==df['pred']).astype(np.int)"
   ]
  },
  {
   "cell_type": "code",
   "execution_count": 24,
   "metadata": {},
   "outputs": [
    {
     "data": {
      "text/html": [
       "<div>\n",
       "<style scoped>\n",
       "    .dataframe tbody tr th:only-of-type {\n",
       "        vertical-align: middle;\n",
       "    }\n",
       "\n",
       "    .dataframe tbody tr th {\n",
       "        vertical-align: top;\n",
       "    }\n",
       "\n",
       "    .dataframe thead tr th {\n",
       "        text-align: left;\n",
       "    }\n",
       "\n",
       "    .dataframe thead tr:last-of-type th {\n",
       "        text-align: right;\n",
       "    }\n",
       "</style>\n",
       "<table border=\"1\" class=\"dataframe\">\n",
       "  <thead>\n",
       "    <tr>\n",
       "      <th></th>\n",
       "      <th colspan=\"2\" halign=\"left\">correct</th>\n",
       "    </tr>\n",
       "    <tr>\n",
       "      <th></th>\n",
       "      <th>mean</th>\n",
       "      <th>count</th>\n",
       "    </tr>\n",
       "    <tr>\n",
       "      <th>dataset</th>\n",
       "      <th></th>\n",
       "      <th></th>\n",
       "    </tr>\n",
       "  </thead>\n",
       "  <tbody>\n",
       "    <tr>\n",
       "      <td>DFGC_SYSU_852924</td>\n",
       "      <td>0.675</td>\n",
       "      <td>1000</td>\n",
       "    </tr>\n",
       "    <tr>\n",
       "      <td>DFischerHDA_852673</td>\n",
       "      <td>0.663</td>\n",
       "      <td>1000</td>\n",
       "    </tr>\n",
       "    <tr>\n",
       "      <td>ctmiu_853213</td>\n",
       "      <td>0.704</td>\n",
       "      <td>1000</td>\n",
       "    </tr>\n",
       "    <tr>\n",
       "      <td>fake_baseline</td>\n",
       "      <td>0.685</td>\n",
       "      <td>1000</td>\n",
       "    </tr>\n",
       "    <tr>\n",
       "      <td>jerryHUST_853638</td>\n",
       "      <td>0.686</td>\n",
       "      <td>1000</td>\n",
       "    </tr>\n",
       "    <tr>\n",
       "      <td>joshhu_853266</td>\n",
       "      <td>0.687</td>\n",
       "      <td>1000</td>\n",
       "    </tr>\n",
       "    <tr>\n",
       "      <td>lowtec_853184</td>\n",
       "      <td>0.689</td>\n",
       "      <td>1000</td>\n",
       "    </tr>\n",
       "    <tr>\n",
       "      <td>miaotao_853000</td>\n",
       "      <td>0.676</td>\n",
       "      <td>1000</td>\n",
       "    </tr>\n",
       "    <tr>\n",
       "      <td>nbhh_853436</td>\n",
       "      <td>0.687</td>\n",
       "      <td>1000</td>\n",
       "    </tr>\n",
       "    <tr>\n",
       "      <td>real_fulls</td>\n",
       "      <td>0.335</td>\n",
       "      <td>1000</td>\n",
       "    </tr>\n",
       "    <tr>\n",
       "      <td>seanseattle_853068</td>\n",
       "      <td>0.679</td>\n",
       "      <td>1000</td>\n",
       "    </tr>\n",
       "    <tr>\n",
       "      <td>smartz_849705</td>\n",
       "      <td>0.650</td>\n",
       "      <td>1000</td>\n",
       "    </tr>\n",
       "    <tr>\n",
       "      <td>wany_853175</td>\n",
       "      <td>0.651</td>\n",
       "      <td>1000</td>\n",
       "    </tr>\n",
       "    <tr>\n",
       "      <td>yZzzzzz_849853</td>\n",
       "      <td>0.686</td>\n",
       "      <td>1000</td>\n",
       "    </tr>\n",
       "    <tr>\n",
       "      <td>yangquanwei_852303</td>\n",
       "      <td>0.673</td>\n",
       "      <td>1000</td>\n",
       "    </tr>\n",
       "    <tr>\n",
       "      <td>yuejiang_852934</td>\n",
       "      <td>0.686</td>\n",
       "      <td>1000</td>\n",
       "    </tr>\n",
       "    <tr>\n",
       "      <td>zhaobh_852336</td>\n",
       "      <td>0.670</td>\n",
       "      <td>1000</td>\n",
       "    </tr>\n",
       "    <tr>\n",
       "      <td>zz110_853170</td>\n",
       "      <td>0.661</td>\n",
       "      <td>1000</td>\n",
       "    </tr>\n",
       "  </tbody>\n",
       "</table>\n",
       "</div>"
      ],
      "text/plain": [
       "                   correct      \n",
       "                      mean count\n",
       "dataset                         \n",
       "DFGC_SYSU_852924     0.675  1000\n",
       "DFischerHDA_852673   0.663  1000\n",
       "ctmiu_853213         0.704  1000\n",
       "fake_baseline        0.685  1000\n",
       "jerryHUST_853638     0.686  1000\n",
       "joshhu_853266        0.687  1000\n",
       "lowtec_853184        0.689  1000\n",
       "miaotao_853000       0.676  1000\n",
       "nbhh_853436          0.687  1000\n",
       "real_fulls           0.335  1000\n",
       "seanseattle_853068   0.679  1000\n",
       "smartz_849705        0.650  1000\n",
       "wany_853175          0.651  1000\n",
       "yZzzzzz_849853       0.686  1000\n",
       "yangquanwei_852303   0.673  1000\n",
       "yuejiang_852934      0.686  1000\n",
       "zhaobh_852336        0.670  1000\n",
       "zz110_853170         0.661  1000"
      ]
     },
     "execution_count": 24,
     "metadata": {},
     "output_type": "execute_result"
    }
   ],
   "source": [
    "df.groupby('dataset')[['correct']].aggregate(['mean','count'])"
   ]
  },
  {
   "cell_type": "code",
   "execution_count": 25,
   "metadata": {
    "scrolled": true
   },
   "outputs": [
    {
     "data": {
      "text/plain": [
       "array([[11508,  5492],\n",
       "       [  665,   335]])"
      ]
     },
     "execution_count": 25,
     "metadata": {},
     "output_type": "execute_result"
    }
   ],
   "source": [
    "confusion_matrix(df['label'],df['pred'],labels=[0,1])"
   ]
  },
  {
   "cell_type": "code",
   "execution_count": 26,
   "metadata": {},
   "outputs": [
    {
     "name": "stdout",
     "output_type": "stream",
     "text": [
      "0.9444444444444444 0.6579444444444444\n"
     ]
    }
   ],
   "source": [
    "print(1-df['label'].mean(),(df['label']==df['pred']).mean())"
   ]
  },
  {
   "cell_type": "code",
   "execution_count": 27,
   "metadata": {},
   "outputs": [
    {
     "data": {
      "text/plain": [
       "0.4964991764705882"
      ]
     },
     "execution_count": 27,
     "metadata": {},
     "output_type": "execute_result"
    }
   ],
   "source": [
    "roc_auc_score(df['label'],df['probability'])"
   ]
  },
  {
   "cell_type": "code",
   "execution_count": 28,
   "metadata": {},
   "outputs": [
    {
     "data": {
      "image/png": "[encoded data removed]",
      "text/plain": [
       "<Figure size 432x288 with 1 Axes>"
      ]
     },
     "metadata": {
      "needs_background": "light"
     },
     "output_type": "display_data"
    }
   ],
   "source": [
    "plot_roc(df['label'],df['probability'])"
   ]
  },
  {
   "cell_type": "markdown",
   "metadata": {},
   "source": [
    "# results/CNNDetection/dfgc2021.txt"
   ]
  },
  {
   "cell_type": "code",
   "execution_count": 6,
   "metadata": {},
   "outputs": [],
   "source": [
    "df=pd.read_csv('results/CNNDetection/dfgc2021.txt', index_col=0, header=None)\n",
    "df['probability']=df[1]\n",
    "df['label']=df.index.map(lambda x: int('real' in x))\n",
    "df['pred']= (df['probability']>0.5).astype(np.int)\n",
    "df['dataset']=df.index.map(lambda u: u.split('/')[-2])\n",
    "df['correct']=(df['label']==df['pred']).astype(np.int)"
   ]
  },
  {
   "cell_type": "code",
   "execution_count": 7,
   "metadata": {},
   "outputs": [
    {
     "data": {
      "text/html": [
       "<div>\n",
       "<style scoped>\n",
       "    .dataframe tbody tr th:only-of-type {\n",
       "        vertical-align: middle;\n",
       "    }\n",
       "\n",
       "    .dataframe tbody tr th {\n",
       "        vertical-align: top;\n",
       "    }\n",
       "\n",
       "    .dataframe thead tr th {\n",
       "        text-align: left;\n",
       "    }\n",
       "\n",
       "    .dataframe thead tr:last-of-type th {\n",
       "        text-align: right;\n",
       "    }\n",
       "</style>\n",
       "<table border=\"1\" class=\"dataframe\">\n",
       "  <thead>\n",
       "    <tr>\n",
       "      <th></th>\n",
       "      <th colspan=\"2\" halign=\"left\">correct</th>\n",
       "    </tr>\n",
       "    <tr>\n",
       "      <th></th>\n",
       "      <th>mean</th>\n",
       "      <th>count</th>\n",
       "    </tr>\n",
       "    <tr>\n",
       "      <th>dataset</th>\n",
       "      <th></th>\n",
       "      <th></th>\n",
       "    </tr>\n",
       "  </thead>\n",
       "  <tbody>\n",
       "    <tr>\n",
       "      <td>DFGC_SYSU_852924</td>\n",
       "      <td>0.999</td>\n",
       "      <td>1000</td>\n",
       "    </tr>\n",
       "    <tr>\n",
       "      <td>DFischerHDA_852673</td>\n",
       "      <td>1.000</td>\n",
       "      <td>1000</td>\n",
       "    </tr>\n",
       "    <tr>\n",
       "      <td>ctmiu_853213</td>\n",
       "      <td>1.000</td>\n",
       "      <td>1000</td>\n",
       "    </tr>\n",
       "    <tr>\n",
       "      <td>fake_baseline</td>\n",
       "      <td>1.000</td>\n",
       "      <td>1000</td>\n",
       "    </tr>\n",
       "    <tr>\n",
       "      <td>jerryHUST_853638</td>\n",
       "      <td>1.000</td>\n",
       "      <td>1000</td>\n",
       "    </tr>\n",
       "    <tr>\n",
       "      <td>joshhu_853266</td>\n",
       "      <td>0.996</td>\n",
       "      <td>1000</td>\n",
       "    </tr>\n",
       "    <tr>\n",
       "      <td>lowtec_853184</td>\n",
       "      <td>0.999</td>\n",
       "      <td>1000</td>\n",
       "    </tr>\n",
       "    <tr>\n",
       "      <td>miaotao_853000</td>\n",
       "      <td>1.000</td>\n",
       "      <td>1000</td>\n",
       "    </tr>\n",
       "    <tr>\n",
       "      <td>nbhh_853436</td>\n",
       "      <td>0.997</td>\n",
       "      <td>1000</td>\n",
       "    </tr>\n",
       "    <tr>\n",
       "      <td>real_fulls</td>\n",
       "      <td>0.001</td>\n",
       "      <td>1000</td>\n",
       "    </tr>\n",
       "    <tr>\n",
       "      <td>seanseattle_853068</td>\n",
       "      <td>0.999</td>\n",
       "      <td>1000</td>\n",
       "    </tr>\n",
       "    <tr>\n",
       "      <td>smartz_849705</td>\n",
       "      <td>0.501</td>\n",
       "      <td>1000</td>\n",
       "    </tr>\n",
       "    <tr>\n",
       "      <td>wany_853175</td>\n",
       "      <td>1.000</td>\n",
       "      <td>1000</td>\n",
       "    </tr>\n",
       "    <tr>\n",
       "      <td>yZzzzzz_849853</td>\n",
       "      <td>0.999</td>\n",
       "      <td>1000</td>\n",
       "    </tr>\n",
       "    <tr>\n",
       "      <td>yangquanwei_852303</td>\n",
       "      <td>0.999</td>\n",
       "      <td>1000</td>\n",
       "    </tr>\n",
       "    <tr>\n",
       "      <td>yuejiang_852934</td>\n",
       "      <td>1.000</td>\n",
       "      <td>1000</td>\n",
       "    </tr>\n",
       "    <tr>\n",
       "      <td>zhaobh_852336</td>\n",
       "      <td>0.973</td>\n",
       "      <td>1000</td>\n",
       "    </tr>\n",
       "    <tr>\n",
       "      <td>zz110_853170</td>\n",
       "      <td>1.000</td>\n",
       "      <td>1000</td>\n",
       "    </tr>\n",
       "  </tbody>\n",
       "</table>\n",
       "</div>"
      ],
      "text/plain": [
       "                   correct      \n",
       "                      mean count\n",
       "dataset                         \n",
       "DFGC_SYSU_852924     0.999  1000\n",
       "DFischerHDA_852673   1.000  1000\n",
       "ctmiu_853213         1.000  1000\n",
       "fake_baseline        1.000  1000\n",
       "jerryHUST_853638     1.000  1000\n",
       "joshhu_853266        0.996  1000\n",
       "lowtec_853184        0.999  1000\n",
       "miaotao_853000       1.000  1000\n",
       "nbhh_853436          0.997  1000\n",
       "real_fulls           0.001  1000\n",
       "seanseattle_853068   0.999  1000\n",
       "smartz_849705        0.501  1000\n",
       "wany_853175          1.000  1000\n",
       "yZzzzzz_849853       0.999  1000\n",
       "yangquanwei_852303   0.999  1000\n",
       "yuejiang_852934      1.000  1000\n",
       "zhaobh_852336        0.973  1000\n",
       "zz110_853170         1.000  1000"
      ]
     },
     "execution_count": 7,
     "metadata": {},
     "output_type": "execute_result"
    }
   ],
   "source": [
    "df.groupby('dataset')[['correct']].aggregate(['mean','count'])"
   ]
  },
  {
   "cell_type": "code",
   "execution_count": 8,
   "metadata": {
    "scrolled": true
   },
   "outputs": [
    {
     "data": {
      "text/plain": [
       "array([[16462,   538],\n",
       "       [  999,     1]])"
      ]
     },
     "execution_count": 8,
     "metadata": {},
     "output_type": "execute_result"
    }
   ],
   "source": [
    "confusion_matrix(df['label'],df['pred'],labels=[0,1])"
   ]
  },
  {
   "cell_type": "code",
   "execution_count": 9,
   "metadata": {},
   "outputs": [
    {
     "name": "stdout",
     "output_type": "stream",
     "text": [
      "0.9444444444444444 0.9146111111111112\n"
     ]
    }
   ],
   "source": [
    "print(1-df['label'].mean(),(df['label']==df['pred']).mean())"
   ]
  },
  {
   "cell_type": "code",
   "execution_count": 10,
   "metadata": {},
   "outputs": [
    {
     "data": {
      "text/plain": [
       "0.44131661764705876"
      ]
     },
     "execution_count": 10,
     "metadata": {},
     "output_type": "execute_result"
    }
   ],
   "source": [
    "roc_auc_score(df['label'],df['probability'])"
   ]
  },
  {
   "cell_type": "code",
   "execution_count": 13,
   "metadata": {},
   "outputs": [
    {
     "data": {
      "image/png": "[encoded data removed]",
      "text/plain": [
       "<Figure size 432x288 with 1 Axes>"
      ]
     },
     "metadata": {
      "needs_background": "light"
     },
     "output_type": "display_data"
    }
   ],
   "source": [
    "plot_roc(df['label'],df['probability'])"
   ]
  },
  {
   "cell_type": "markdown",
   "metadata": {},
   "source": [
    "# results/patch-forensics/dfgc2021.txt"
   ]
  },
  {
   "cell_type": "code",
   "execution_count": 148,
   "metadata": {},
   "outputs": [],
   "source": [
    "df=pd.read_csv('results/patch-forensics/dfgc2021.txt', index_col=0, header=None)\n",
    "df['probability']=df[1]\n",
    "df['label']=df.index.map(lambda x: int('real' in x))\n",
    "df['pred']= (df['probability']>0.5).astype(np.int)\n",
    "df['dataset']=df.index.map(lambda u: u.split('/')[-2])\n",
    "df['correct']=(df['label']==df['pred']).astype(np.int)"
   ]
  },
  {
   "cell_type": "code",
   "execution_count": 149,
   "metadata": {},
   "outputs": [
    {
     "data": {
      "text/html": [
       "<div>\n",
       "<style scoped>\n",
       "    .dataframe tbody tr th:only-of-type {\n",
       "        vertical-align: middle;\n",
       "    }\n",
       "\n",
       "    .dataframe tbody tr th {\n",
       "        vertical-align: top;\n",
       "    }\n",
       "\n",
       "    .dataframe thead tr th {\n",
       "        text-align: left;\n",
       "    }\n",
       "\n",
       "    .dataframe thead tr:last-of-type th {\n",
       "        text-align: right;\n",
       "    }\n",
       "</style>\n",
       "<table border=\"1\" class=\"dataframe\">\n",
       "  <thead>\n",
       "    <tr>\n",
       "      <th></th>\n",
       "      <th colspan=\"2\" halign=\"left\">correct</th>\n",
       "    </tr>\n",
       "    <tr>\n",
       "      <th></th>\n",
       "      <th>mean</th>\n",
       "      <th>count</th>\n",
       "    </tr>\n",
       "    <tr>\n",
       "      <th>dataset</th>\n",
       "      <th></th>\n",
       "      <th></th>\n",
       "    </tr>\n",
       "  </thead>\n",
       "  <tbody>\n",
       "    <tr>\n",
       "      <td>DFGC_SYSU_852924</td>\n",
       "      <td>0.991</td>\n",
       "      <td>1000</td>\n",
       "    </tr>\n",
       "    <tr>\n",
       "      <td>DFischerHDA_852673</td>\n",
       "      <td>0.992</td>\n",
       "      <td>1000</td>\n",
       "    </tr>\n",
       "    <tr>\n",
       "      <td>ctmiu_853213</td>\n",
       "      <td>0.999</td>\n",
       "      <td>1000</td>\n",
       "    </tr>\n",
       "    <tr>\n",
       "      <td>fake_baseline</td>\n",
       "      <td>0.990</td>\n",
       "      <td>1000</td>\n",
       "    </tr>\n",
       "    <tr>\n",
       "      <td>jerryHUST_853638</td>\n",
       "      <td>0.967</td>\n",
       "      <td>1000</td>\n",
       "    </tr>\n",
       "    <tr>\n",
       "      <td>joshhu_853266</td>\n",
       "      <td>0.991</td>\n",
       "      <td>1000</td>\n",
       "    </tr>\n",
       "    <tr>\n",
       "      <td>lowtec_853184</td>\n",
       "      <td>0.965</td>\n",
       "      <td>1000</td>\n",
       "    </tr>\n",
       "    <tr>\n",
       "      <td>miaotao_853000</td>\n",
       "      <td>1.000</td>\n",
       "      <td>1000</td>\n",
       "    </tr>\n",
       "    <tr>\n",
       "      <td>nbhh_853436</td>\n",
       "      <td>0.996</td>\n",
       "      <td>1000</td>\n",
       "    </tr>\n",
       "    <tr>\n",
       "      <td>real_fulls</td>\n",
       "      <td>0.031</td>\n",
       "      <td>1000</td>\n",
       "    </tr>\n",
       "    <tr>\n",
       "      <td>seanseattle_853068</td>\n",
       "      <td>0.999</td>\n",
       "      <td>1000</td>\n",
       "    </tr>\n",
       "    <tr>\n",
       "      <td>smartz_849705</td>\n",
       "      <td>0.815</td>\n",
       "      <td>1000</td>\n",
       "    </tr>\n",
       "    <tr>\n",
       "      <td>wany_853175</td>\n",
       "      <td>1.000</td>\n",
       "      <td>1000</td>\n",
       "    </tr>\n",
       "    <tr>\n",
       "      <td>yZzzzzz_849853</td>\n",
       "      <td>0.997</td>\n",
       "      <td>1000</td>\n",
       "    </tr>\n",
       "    <tr>\n",
       "      <td>yangquanwei_852303</td>\n",
       "      <td>0.997</td>\n",
       "      <td>1000</td>\n",
       "    </tr>\n",
       "    <tr>\n",
       "      <td>yuejiang_852934</td>\n",
       "      <td>0.911</td>\n",
       "      <td>1000</td>\n",
       "    </tr>\n",
       "    <tr>\n",
       "      <td>zhaobh_852336</td>\n",
       "      <td>0.285</td>\n",
       "      <td>1000</td>\n",
       "    </tr>\n",
       "    <tr>\n",
       "      <td>zz110_853170</td>\n",
       "      <td>1.000</td>\n",
       "      <td>1000</td>\n",
       "    </tr>\n",
       "  </tbody>\n",
       "</table>\n",
       "</div>"
      ],
      "text/plain": [
       "                   correct      \n",
       "                      mean count\n",
       "dataset                         \n",
       "DFGC_SYSU_852924     0.991  1000\n",
       "DFischerHDA_852673   0.992  1000\n",
       "ctmiu_853213         0.999  1000\n",
       "fake_baseline        0.990  1000\n",
       "jerryHUST_853638     0.967  1000\n",
       "joshhu_853266        0.991  1000\n",
       "lowtec_853184        0.965  1000\n",
       "miaotao_853000       1.000  1000\n",
       "nbhh_853436          0.996  1000\n",
       "real_fulls           0.031  1000\n",
       "seanseattle_853068   0.999  1000\n",
       "smartz_849705        0.815  1000\n",
       "wany_853175          1.000  1000\n",
       "yZzzzzz_849853       0.997  1000\n",
       "yangquanwei_852303   0.997  1000\n",
       "yuejiang_852934      0.911  1000\n",
       "zhaobh_852336        0.285  1000\n",
       "zz110_853170         1.000  1000"
      ]
     },
     "execution_count": 149,
     "metadata": {},
     "output_type": "execute_result"
    }
   ],
   "source": [
    "df.groupby('dataset')[['correct']].aggregate(['mean','count'])"
   ]
  },
  {
   "cell_type": "code",
   "execution_count": 150,
   "metadata": {
    "scrolled": true
   },
   "outputs": [
    {
     "data": {
      "text/plain": [
       "array([[15895,  1105],\n",
       "       [  969,    31]])"
      ]
     },
     "execution_count": 150,
     "metadata": {},
     "output_type": "execute_result"
    }
   ],
   "source": [
    "confusion_matrix(df['label'],df['pred'],labels=[0,1])"
   ]
  },
  {
   "cell_type": "code",
   "execution_count": 151,
   "metadata": {},
   "outputs": [
    {
     "name": "stdout",
     "output_type": "stream",
     "text": [
      "0.9444444444444444 0.8847777777777778\n"
     ]
    }
   ],
   "source": [
    "print(1-df['label'].mean(),(df['label']==df['pred']).mean())"
   ]
  },
  {
   "cell_type": "code",
   "execution_count": 152,
   "metadata": {},
   "outputs": [
    {
     "data": {
      "text/plain": [
       "0.5426007352941177"
      ]
     },
     "execution_count": 152,
     "metadata": {},
     "output_type": "execute_result"
    }
   ],
   "source": [
    "roc_auc_score(df['label'],df['probability'])"
   ]
  },
  {
   "cell_type": "code",
   "execution_count": 153,
   "metadata": {},
   "outputs": [
    {
     "data": {
      "image/png": "[encoded data removed]",
      "text/plain": [
       "<Figure size 432x288 with 1 Axes>"
      ]
     },
     "metadata": {
      "needs_background": "light"
     },
     "output_type": "display_data"
    }
   ],
   "source": [
    "plot_roc(df['label'],df['probability'])"
   ]
  },
  {
   "cell_type": "markdown",
   "metadata": {},
   "source": [
    "# results/MesoNet/dfgc2021.txt"
   ]
  },
  {
   "cell_type": "code",
   "execution_count": 125,
   "metadata": {},
   "outputs": [],
   "source": [
    "df=pd.read_csv('results/MesoNet/dfgc2021.txt', index_col=0, header=None)\n",
    "df['probability']=df[1]\n",
    "df['label']=df.index.map(lambda x: int('real' in x))\n",
    "df['pred']= (df['probability']>0.5).astype(np.int)\n",
    "df['dataset']=df.index.map(lambda u: u.split('/')[-2])\n",
    "df['correct']=(df['label']==df['pred']).astype(np.int)"
   ]
  },
  {
   "cell_type": "code",
   "execution_count": 126,
   "metadata": {},
   "outputs": [
    {
     "data": {
      "text/html": [
       "<div>\n",
       "<style scoped>\n",
       "    .dataframe tbody tr th:only-of-type {\n",
       "        vertical-align: middle;\n",
       "    }\n",
       "\n",
       "    .dataframe tbody tr th {\n",
       "        vertical-align: top;\n",
       "    }\n",
       "\n",
       "    .dataframe thead tr th {\n",
       "        text-align: left;\n",
       "    }\n",
       "\n",
       "    .dataframe thead tr:last-of-type th {\n",
       "        text-align: right;\n",
       "    }\n",
       "</style>\n",
       "<table border=\"1\" class=\"dataframe\">\n",
       "  <thead>\n",
       "    <tr>\n",
       "      <th></th>\n",
       "      <th colspan=\"2\" halign=\"left\">correct</th>\n",
       "    </tr>\n",
       "    <tr>\n",
       "      <th></th>\n",
       "      <th>mean</th>\n",
       "      <th>count</th>\n",
       "    </tr>\n",
       "    <tr>\n",
       "      <th>dataset</th>\n",
       "      <th></th>\n",
       "      <th></th>\n",
       "    </tr>\n",
       "  </thead>\n",
       "  <tbody>\n",
       "    <tr>\n",
       "      <td>DFGC_SYSU_852924</td>\n",
       "      <td>0.918</td>\n",
       "      <td>1000</td>\n",
       "    </tr>\n",
       "    <tr>\n",
       "      <td>DFischerHDA_852673</td>\n",
       "      <td>0.981</td>\n",
       "      <td>1000</td>\n",
       "    </tr>\n",
       "    <tr>\n",
       "      <td>ctmiu_853213</td>\n",
       "      <td>0.547</td>\n",
       "      <td>1000</td>\n",
       "    </tr>\n",
       "    <tr>\n",
       "      <td>fake_baseline</td>\n",
       "      <td>0.900</td>\n",
       "      <td>1000</td>\n",
       "    </tr>\n",
       "    <tr>\n",
       "      <td>jerryHUST_853638</td>\n",
       "      <td>0.916</td>\n",
       "      <td>1000</td>\n",
       "    </tr>\n",
       "    <tr>\n",
       "      <td>joshhu_853266</td>\n",
       "      <td>0.835</td>\n",
       "      <td>1000</td>\n",
       "    </tr>\n",
       "    <tr>\n",
       "      <td>lowtec_853184</td>\n",
       "      <td>0.479</td>\n",
       "      <td>1000</td>\n",
       "    </tr>\n",
       "    <tr>\n",
       "      <td>miaotao_853000</td>\n",
       "      <td>0.229</td>\n",
       "      <td>1000</td>\n",
       "    </tr>\n",
       "    <tr>\n",
       "      <td>nbhh_853436</td>\n",
       "      <td>0.807</td>\n",
       "      <td>1000</td>\n",
       "    </tr>\n",
       "    <tr>\n",
       "      <td>real_fulls</td>\n",
       "      <td>0.239</td>\n",
       "      <td>1000</td>\n",
       "    </tr>\n",
       "    <tr>\n",
       "      <td>seanseattle_853068</td>\n",
       "      <td>0.914</td>\n",
       "      <td>1000</td>\n",
       "    </tr>\n",
       "    <tr>\n",
       "      <td>smartz_849705</td>\n",
       "      <td>0.918</td>\n",
       "      <td>1000</td>\n",
       "    </tr>\n",
       "    <tr>\n",
       "      <td>wany_853175</td>\n",
       "      <td>0.829</td>\n",
       "      <td>1000</td>\n",
       "    </tr>\n",
       "    <tr>\n",
       "      <td>yZzzzzz_849853</td>\n",
       "      <td>0.977</td>\n",
       "      <td>1000</td>\n",
       "    </tr>\n",
       "    <tr>\n",
       "      <td>yangquanwei_852303</td>\n",
       "      <td>0.386</td>\n",
       "      <td>1000</td>\n",
       "    </tr>\n",
       "    <tr>\n",
       "      <td>yuejiang_852934</td>\n",
       "      <td>0.812</td>\n",
       "      <td>1000</td>\n",
       "    </tr>\n",
       "    <tr>\n",
       "      <td>zhaobh_852336</td>\n",
       "      <td>0.980</td>\n",
       "      <td>1000</td>\n",
       "    </tr>\n",
       "    <tr>\n",
       "      <td>zz110_853170</td>\n",
       "      <td>0.059</td>\n",
       "      <td>1000</td>\n",
       "    </tr>\n",
       "  </tbody>\n",
       "</table>\n",
       "</div>"
      ],
      "text/plain": [
       "                   correct      \n",
       "                      mean count\n",
       "dataset                         \n",
       "DFGC_SYSU_852924     0.918  1000\n",
       "DFischerHDA_852673   0.981  1000\n",
       "ctmiu_853213         0.547  1000\n",
       "fake_baseline        0.900  1000\n",
       "jerryHUST_853638     0.916  1000\n",
       "joshhu_853266        0.835  1000\n",
       "lowtec_853184        0.479  1000\n",
       "miaotao_853000       0.229  1000\n",
       "nbhh_853436          0.807  1000\n",
       "real_fulls           0.239  1000\n",
       "seanseattle_853068   0.914  1000\n",
       "smartz_849705        0.918  1000\n",
       "wany_853175          0.829  1000\n",
       "yZzzzzz_849853       0.977  1000\n",
       "yangquanwei_852303   0.386  1000\n",
       "yuejiang_852934      0.812  1000\n",
       "zhaobh_852336        0.980  1000\n",
       "zz110_853170         0.059  1000"
      ]
     },
     "execution_count": 126,
     "metadata": {},
     "output_type": "execute_result"
    }
   ],
   "source": [
    "df.groupby('dataset')[['correct']].aggregate(['mean','count'])"
   ]
  },
  {
   "cell_type": "code",
   "execution_count": 127,
   "metadata": {
    "scrolled": true
   },
   "outputs": [
    {
     "data": {
      "text/plain": [
       "array([[12487,  4513],\n",
       "       [  761,   239]])"
      ]
     },
     "execution_count": 127,
     "metadata": {},
     "output_type": "execute_result"
    }
   ],
   "source": [
    "confusion_matrix(df['label'],df['pred'],labels=[0,1])"
   ]
  },
  {
   "cell_type": "code",
   "execution_count": 128,
   "metadata": {},
   "outputs": [
    {
     "name": "stdout",
     "output_type": "stream",
     "text": [
      "0.9444444444444444 0.707\n"
     ]
    }
   ],
   "source": [
    "print(1-df['label'].mean(),(df['label']==df['pred']).mean())"
   ]
  },
  {
   "cell_type": "code",
   "execution_count": 129,
   "metadata": {},
   "outputs": [
    {
     "data": {
      "text/plain": [
       "0.4938102941176471"
      ]
     },
     "execution_count": 129,
     "metadata": {},
     "output_type": "execute_result"
    }
   ],
   "source": [
    "roc_auc_score(df['label'],df['probability'])"
   ]
  },
  {
   "cell_type": "code",
   "execution_count": 130,
   "metadata": {},
   "outputs": [
    {
     "data": {
      "image/png": "[encoded data removed]",
      "text/plain": [
       "<Figure size 432x288 with 1 Axes>"
      ]
     },
     "metadata": {
      "needs_background": "light"
     },
     "output_type": "display_data"
    }
   ],
   "source": [
    "plot_roc(df['label'],df['probability'])"
   ]
  },
  {
   "cell_type": "markdown",
   "metadata": {},
   "source": [
    "# results/ClassNSeg/dfgc2021.txt"
   ]
  },
  {
   "cell_type": "code",
   "execution_count": 135,
   "metadata": {},
   "outputs": [],
   "source": [
    "df=pd.read_csv('results/ClassNSeg/dfgc2021.txt', index_col=0, header=None, usecols=[0,2])\n",
    "df['probability']=df[2]\n",
    "df['label']=df.index.map(lambda x: int('real' in x))\n",
    "df['pred']= (df['probability']>0.5).astype(np.int)\n",
    "df['dataset']=df.index.map(lambda u: u.split('/')[-2])\n",
    "df['correct']=(df['label']==df['pred']).astype(np.int)"
   ]
  },
  {
   "cell_type": "code",
   "execution_count": 136,
   "metadata": {},
   "outputs": [
    {
     "data": {
      "text/html": [
       "<div>\n",
       "<style scoped>\n",
       "    .dataframe tbody tr th:only-of-type {\n",
       "        vertical-align: middle;\n",
       "    }\n",
       "\n",
       "    .dataframe tbody tr th {\n",
       "        vertical-align: top;\n",
       "    }\n",
       "\n",
       "    .dataframe thead tr th {\n",
       "        text-align: left;\n",
       "    }\n",
       "\n",
       "    .dataframe thead tr:last-of-type th {\n",
       "        text-align: right;\n",
       "    }\n",
       "</style>\n",
       "<table border=\"1\" class=\"dataframe\">\n",
       "  <thead>\n",
       "    <tr>\n",
       "      <th></th>\n",
       "      <th colspan=\"2\" halign=\"left\">correct</th>\n",
       "    </tr>\n",
       "    <tr>\n",
       "      <th></th>\n",
       "      <th>mean</th>\n",
       "      <th>count</th>\n",
       "    </tr>\n",
       "    <tr>\n",
       "      <th>dataset</th>\n",
       "      <th></th>\n",
       "      <th></th>\n",
       "    </tr>\n",
       "  </thead>\n",
       "  <tbody>\n",
       "    <tr>\n",
       "      <td>DFGC_SYSU_852924</td>\n",
       "      <td>0.004</td>\n",
       "      <td>1000</td>\n",
       "    </tr>\n",
       "    <tr>\n",
       "      <td>DFischerHDA_852673</td>\n",
       "      <td>0.324</td>\n",
       "      <td>1000</td>\n",
       "    </tr>\n",
       "    <tr>\n",
       "      <td>ctmiu_853213</td>\n",
       "      <td>0.003</td>\n",
       "      <td>1000</td>\n",
       "    </tr>\n",
       "    <tr>\n",
       "      <td>fake_baseline</td>\n",
       "      <td>0.092</td>\n",
       "      <td>1000</td>\n",
       "    </tr>\n",
       "    <tr>\n",
       "      <td>jerryHUST_853638</td>\n",
       "      <td>0.039</td>\n",
       "      <td>1000</td>\n",
       "    </tr>\n",
       "    <tr>\n",
       "      <td>joshhu_853266</td>\n",
       "      <td>0.030</td>\n",
       "      <td>1000</td>\n",
       "    </tr>\n",
       "    <tr>\n",
       "      <td>lowtec_853184</td>\n",
       "      <td>0.125</td>\n",
       "      <td>1000</td>\n",
       "    </tr>\n",
       "    <tr>\n",
       "      <td>miaotao_853000</td>\n",
       "      <td>0.002</td>\n",
       "      <td>1000</td>\n",
       "    </tr>\n",
       "    <tr>\n",
       "      <td>nbhh_853436</td>\n",
       "      <td>0.032</td>\n",
       "      <td>1000</td>\n",
       "    </tr>\n",
       "    <tr>\n",
       "      <td>real_fulls</td>\n",
       "      <td>0.959</td>\n",
       "      <td>1000</td>\n",
       "    </tr>\n",
       "    <tr>\n",
       "      <td>seanseattle_853068</td>\n",
       "      <td>0.036</td>\n",
       "      <td>1000</td>\n",
       "    </tr>\n",
       "    <tr>\n",
       "      <td>smartz_849705</td>\n",
       "      <td>0.270</td>\n",
       "      <td>1000</td>\n",
       "    </tr>\n",
       "    <tr>\n",
       "      <td>wany_853175</td>\n",
       "      <td>0.000</td>\n",
       "      <td>1000</td>\n",
       "    </tr>\n",
       "    <tr>\n",
       "      <td>yZzzzzz_849853</td>\n",
       "      <td>0.172</td>\n",
       "      <td>1000</td>\n",
       "    </tr>\n",
       "    <tr>\n",
       "      <td>yangquanwei_852303</td>\n",
       "      <td>0.031</td>\n",
       "      <td>1000</td>\n",
       "    </tr>\n",
       "    <tr>\n",
       "      <td>yuejiang_852934</td>\n",
       "      <td>0.129</td>\n",
       "      <td>1000</td>\n",
       "    </tr>\n",
       "    <tr>\n",
       "      <td>zhaobh_852336</td>\n",
       "      <td>0.032</td>\n",
       "      <td>1000</td>\n",
       "    </tr>\n",
       "    <tr>\n",
       "      <td>zz110_853170</td>\n",
       "      <td>0.049</td>\n",
       "      <td>1000</td>\n",
       "    </tr>\n",
       "  </tbody>\n",
       "</table>\n",
       "</div>"
      ],
      "text/plain": [
       "                   correct      \n",
       "                      mean count\n",
       "dataset                         \n",
       "DFGC_SYSU_852924     0.004  1000\n",
       "DFischerHDA_852673   0.324  1000\n",
       "ctmiu_853213         0.003  1000\n",
       "fake_baseline        0.092  1000\n",
       "jerryHUST_853638     0.039  1000\n",
       "joshhu_853266        0.030  1000\n",
       "lowtec_853184        0.125  1000\n",
       "miaotao_853000       0.002  1000\n",
       "nbhh_853436          0.032  1000\n",
       "real_fulls           0.959  1000\n",
       "seanseattle_853068   0.036  1000\n",
       "smartz_849705        0.270  1000\n",
       "wany_853175          0.000  1000\n",
       "yZzzzzz_849853       0.172  1000\n",
       "yangquanwei_852303   0.031  1000\n",
       "yuejiang_852934      0.129  1000\n",
       "zhaobh_852336        0.032  1000\n",
       "zz110_853170         0.049  1000"
      ]
     },
     "execution_count": 136,
     "metadata": {},
     "output_type": "execute_result"
    }
   ],
   "source": [
    "df.groupby('dataset')[['correct']].aggregate(['mean','count'])"
   ]
  },
  {
   "cell_type": "code",
   "execution_count": 137,
   "metadata": {
    "scrolled": true
   },
   "outputs": [
    {
     "data": {
      "text/plain": [
       "array([[ 1370, 15630],\n",
       "       [   41,   959]])"
      ]
     },
     "execution_count": 137,
     "metadata": {},
     "output_type": "execute_result"
    }
   ],
   "source": [
    "confusion_matrix(df['label'],df['pred'],labels=[0,1])"
   ]
  },
  {
   "cell_type": "code",
   "execution_count": 138,
   "metadata": {},
   "outputs": [
    {
     "name": "stdout",
     "output_type": "stream",
     "text": [
      "0.9444444444444444 0.1293888888888889\n"
     ]
    }
   ],
   "source": [
    "print(1-df['label'].mean(),(df['label']==df['pred']).mean())"
   ]
  },
  {
   "cell_type": "code",
   "execution_count": 139,
   "metadata": {},
   "outputs": [
    {
     "data": {
      "text/plain": [
       "0.5581960882352941"
      ]
     },
     "execution_count": 139,
     "metadata": {},
     "output_type": "execute_result"
    }
   ],
   "source": [
    "roc_auc_score(df['label'],df['probability'])"
   ]
  },
  {
   "cell_type": "code",
   "execution_count": 140,
   "metadata": {},
   "outputs": [
    {
     "data": {
      "image/png": "[encoded data removed]",
      "text/plain": [
       "<Figure size 432x288 with 1 Axes>"
      ]
     },
     "metadata": {
      "needs_background": "light"
     },
     "output_type": "display_data"
    }
   ],
   "source": [
    "plot_roc(df['label'],df['probability'])"
   ]
  },
  {
   "cell_type": "markdown",
   "metadata": {},
   "source": [
    "# results/Capsule-Forensics-v2/dfgc2021.txt"
   ]
  },
  {
   "cell_type": "code",
   "execution_count": 141,
   "metadata": {},
   "outputs": [],
   "source": [
    "df=pd.read_csv('results/Capsule-Forensics-v2/dfgc2021.txt', index_col=0, header=None)\n",
    "df['probability']=df[2]\n",
    "df['label']=df.index.map(lambda x: int('real' in x))\n",
    "df['pred']= (df['probability']>0.5).astype(np.int)\n",
    "df['dataset']=df.index.map(lambda u: u.split('/')[-2])\n",
    "df['correct']=(df['label']==df['pred']).astype(np.int)"
   ]
  },
  {
   "cell_type": "code",
   "execution_count": 142,
   "metadata": {},
   "outputs": [
    {
     "data": {
      "text/html": [
       "<div>\n",
       "<style scoped>\n",
       "    .dataframe tbody tr th:only-of-type {\n",
       "        vertical-align: middle;\n",
       "    }\n",
       "\n",
       "    .dataframe tbody tr th {\n",
       "        vertical-align: top;\n",
       "    }\n",
       "\n",
       "    .dataframe thead tr th {\n",
       "        text-align: left;\n",
       "    }\n",
       "\n",
       "    .dataframe thead tr:last-of-type th {\n",
       "        text-align: right;\n",
       "    }\n",
       "</style>\n",
       "<table border=\"1\" class=\"dataframe\">\n",
       "  <thead>\n",
       "    <tr>\n",
       "      <th></th>\n",
       "      <th colspan=\"2\" halign=\"left\">correct</th>\n",
       "    </tr>\n",
       "    <tr>\n",
       "      <th></th>\n",
       "      <th>mean</th>\n",
       "      <th>count</th>\n",
       "    </tr>\n",
       "    <tr>\n",
       "      <th>dataset</th>\n",
       "      <th></th>\n",
       "      <th></th>\n",
       "    </tr>\n",
       "  </thead>\n",
       "  <tbody>\n",
       "    <tr>\n",
       "      <td>DFGC_SYSU_852924</td>\n",
       "      <td>0.845</td>\n",
       "      <td>1000</td>\n",
       "    </tr>\n",
       "    <tr>\n",
       "      <td>DFischerHDA_852673</td>\n",
       "      <td>0.446</td>\n",
       "      <td>1000</td>\n",
       "    </tr>\n",
       "    <tr>\n",
       "      <td>ctmiu_853213</td>\n",
       "      <td>0.876</td>\n",
       "      <td>1000</td>\n",
       "    </tr>\n",
       "    <tr>\n",
       "      <td>fake_baseline</td>\n",
       "      <td>0.770</td>\n",
       "      <td>1000</td>\n",
       "    </tr>\n",
       "    <tr>\n",
       "      <td>jerryHUST_853638</td>\n",
       "      <td>0.760</td>\n",
       "      <td>1000</td>\n",
       "    </tr>\n",
       "    <tr>\n",
       "      <td>joshhu_853266</td>\n",
       "      <td>0.931</td>\n",
       "      <td>1000</td>\n",
       "    </tr>\n",
       "    <tr>\n",
       "      <td>lowtec_853184</td>\n",
       "      <td>0.853</td>\n",
       "      <td>1000</td>\n",
       "    </tr>\n",
       "    <tr>\n",
       "      <td>miaotao_853000</td>\n",
       "      <td>0.740</td>\n",
       "      <td>1000</td>\n",
       "    </tr>\n",
       "    <tr>\n",
       "      <td>nbhh_853436</td>\n",
       "      <td>0.907</td>\n",
       "      <td>1000</td>\n",
       "    </tr>\n",
       "    <tr>\n",
       "      <td>real_fulls</td>\n",
       "      <td>0.081</td>\n",
       "      <td>1000</td>\n",
       "    </tr>\n",
       "    <tr>\n",
       "      <td>seanseattle_853068</td>\n",
       "      <td>0.939</td>\n",
       "      <td>1000</td>\n",
       "    </tr>\n",
       "    <tr>\n",
       "      <td>smartz_849705</td>\n",
       "      <td>0.755</td>\n",
       "      <td>1000</td>\n",
       "    </tr>\n",
       "    <tr>\n",
       "      <td>wany_853175</td>\n",
       "      <td>0.624</td>\n",
       "      <td>1000</td>\n",
       "    </tr>\n",
       "    <tr>\n",
       "      <td>yZzzzzz_849853</td>\n",
       "      <td>0.761</td>\n",
       "      <td>1000</td>\n",
       "    </tr>\n",
       "    <tr>\n",
       "      <td>yangquanwei_852303</td>\n",
       "      <td>0.472</td>\n",
       "      <td>1000</td>\n",
       "    </tr>\n",
       "    <tr>\n",
       "      <td>yuejiang_852934</td>\n",
       "      <td>0.855</td>\n",
       "      <td>1000</td>\n",
       "    </tr>\n",
       "    <tr>\n",
       "      <td>zhaobh_852336</td>\n",
       "      <td>0.901</td>\n",
       "      <td>1000</td>\n",
       "    </tr>\n",
       "    <tr>\n",
       "      <td>zz110_853170</td>\n",
       "      <td>0.635</td>\n",
       "      <td>1000</td>\n",
       "    </tr>\n",
       "  </tbody>\n",
       "</table>\n",
       "</div>"
      ],
      "text/plain": [
       "                   correct      \n",
       "                      mean count\n",
       "dataset                         \n",
       "DFGC_SYSU_852924     0.845  1000\n",
       "DFischerHDA_852673   0.446  1000\n",
       "ctmiu_853213         0.876  1000\n",
       "fake_baseline        0.770  1000\n",
       "jerryHUST_853638     0.760  1000\n",
       "joshhu_853266        0.931  1000\n",
       "lowtec_853184        0.853  1000\n",
       "miaotao_853000       0.740  1000\n",
       "nbhh_853436          0.907  1000\n",
       "real_fulls           0.081  1000\n",
       "seanseattle_853068   0.939  1000\n",
       "smartz_849705        0.755  1000\n",
       "wany_853175          0.624  1000\n",
       "yZzzzzz_849853       0.761  1000\n",
       "yangquanwei_852303   0.472  1000\n",
       "yuejiang_852934      0.855  1000\n",
       "zhaobh_852336        0.901  1000\n",
       "zz110_853170         0.635  1000"
      ]
     },
     "execution_count": 142,
     "metadata": {},
     "output_type": "execute_result"
    }
   ],
   "source": [
    "df.groupby('dataset')[['correct']].aggregate(['mean','count'])"
   ]
  },
  {
   "cell_type": "code",
   "execution_count": 143,
   "metadata": {
    "scrolled": true
   },
   "outputs": [
    {
     "data": {
      "text/plain": [
       "array([[13070,  3930],\n",
       "       [  919,    81]])"
      ]
     },
     "execution_count": 143,
     "metadata": {},
     "output_type": "execute_result"
    }
   ],
   "source": [
    "confusion_matrix(df['label'],df['pred'],labels=[0,1])"
   ]
  },
  {
   "cell_type": "code",
   "execution_count": 144,
   "metadata": {},
   "outputs": [
    {
     "name": "stdout",
     "output_type": "stream",
     "text": [
      "0.9444444444444444 0.7306111111111111\n"
     ]
    }
   ],
   "source": [
    "print(1-df['label'].mean(),(df['label']==df['pred']).mean())"
   ]
  },
  {
   "cell_type": "code",
   "execution_count": 145,
   "metadata": {},
   "outputs": [
    {
     "data": {
      "text/plain": [
       "0.38634373529411764"
      ]
     },
     "execution_count": 145,
     "metadata": {},
     "output_type": "execute_result"
    }
   ],
   "source": [
    "roc_auc_score(df['label'],df['probability'])"
   ]
  },
  {
   "cell_type": "code",
   "execution_count": 146,
   "metadata": {},
   "outputs": [
    {
     "data": {
      "image/png": "[encoded data removed]",
      "text/plain": [
       "<Figure size 432x288 with 1 Axes>"
      ]
     },
     "metadata": {
      "needs_background": "light"
     },
     "output_type": "display_data"
    }
   ],
   "source": [
    "plot_roc(df['label'],df['probability'])"
   ]
  },
  {
   "cell_type": "markdown",
   "metadata": {},
   "source": [
    "# Exploiting-Visual-Artifacts/dfgc2021_gan"
   ]
  },
  {
   "cell_type": "code",
   "execution_count": 109,
   "metadata": {
    "scrolled": true
   },
   "outputs": [],
   "source": [
    "df=pd.read_csv('results/Exploiting-Visual-Artifacts/dfgc2021_gan/scores.csv', index_col=0)\n",
    "df['probability']=df['Score_kNN']\n",
    "df['label']=df.index.map(lambda x: int('real' in x))\n",
    "df['pred']= (df['probability']>0.5).astype(np.int)\n",
    "df['dataset']=df.index.map(lambda u: u.split('/')[-2])\n",
    "df['correct']=(df['label']==df['pred']).astype(np.int)"
   ]
  },
  {
   "cell_type": "code",
   "execution_count": 110,
   "metadata": {},
   "outputs": [
    {
     "data": {
      "text/html": [
       "<div>\n",
       "<style scoped>\n",
       "    .dataframe tbody tr th:only-of-type {\n",
       "        vertical-align: middle;\n",
       "    }\n",
       "\n",
       "    .dataframe tbody tr th {\n",
       "        vertical-align: top;\n",
       "    }\n",
       "\n",
       "    .dataframe thead tr th {\n",
       "        text-align: left;\n",
       "    }\n",
       "\n",
       "    .dataframe thead tr:last-of-type th {\n",
       "        text-align: right;\n",
       "    }\n",
       "</style>\n",
       "<table border=\"1\" class=\"dataframe\">\n",
       "  <thead>\n",
       "    <tr>\n",
       "      <th></th>\n",
       "      <th colspan=\"2\" halign=\"left\">correct</th>\n",
       "    </tr>\n",
       "    <tr>\n",
       "      <th></th>\n",
       "      <th>mean</th>\n",
       "      <th>count</th>\n",
       "    </tr>\n",
       "    <tr>\n",
       "      <th>dataset</th>\n",
       "      <th></th>\n",
       "      <th></th>\n",
       "    </tr>\n",
       "  </thead>\n",
       "  <tbody>\n",
       "    <tr>\n",
       "      <td>DFGC_SYSU_852924</td>\n",
       "      <td>0.382</td>\n",
       "      <td>1000</td>\n",
       "    </tr>\n",
       "    <tr>\n",
       "      <td>DFischerHDA_852673</td>\n",
       "      <td>0.467</td>\n",
       "      <td>1000</td>\n",
       "    </tr>\n",
       "    <tr>\n",
       "      <td>ctmiu_853213</td>\n",
       "      <td>0.240</td>\n",
       "      <td>1000</td>\n",
       "    </tr>\n",
       "    <tr>\n",
       "      <td>fake_baseline</td>\n",
       "      <td>0.409</td>\n",
       "      <td>1000</td>\n",
       "    </tr>\n",
       "    <tr>\n",
       "      <td>jerryHUST_853638</td>\n",
       "      <td>0.382</td>\n",
       "      <td>1000</td>\n",
       "    </tr>\n",
       "    <tr>\n",
       "      <td>joshhu_853266</td>\n",
       "      <td>0.326</td>\n",
       "      <td>1000</td>\n",
       "    </tr>\n",
       "    <tr>\n",
       "      <td>lowtec_853184</td>\n",
       "      <td>0.263</td>\n",
       "      <td>1000</td>\n",
       "    </tr>\n",
       "    <tr>\n",
       "      <td>miaotao_853000</td>\n",
       "      <td>0.256</td>\n",
       "      <td>1000</td>\n",
       "    </tr>\n",
       "    <tr>\n",
       "      <td>nbhh_853436</td>\n",
       "      <td>0.333</td>\n",
       "      <td>1000</td>\n",
       "    </tr>\n",
       "    <tr>\n",
       "      <td>real_fulls</td>\n",
       "      <td>0.631</td>\n",
       "      <td>1000</td>\n",
       "    </tr>\n",
       "    <tr>\n",
       "      <td>seanseattle_853068</td>\n",
       "      <td>0.348</td>\n",
       "      <td>1000</td>\n",
       "    </tr>\n",
       "    <tr>\n",
       "      <td>smartz_849705</td>\n",
       "      <td>0.226</td>\n",
       "      <td>1000</td>\n",
       "    </tr>\n",
       "    <tr>\n",
       "      <td>wany_853175</td>\n",
       "      <td>0.353</td>\n",
       "      <td>1000</td>\n",
       "    </tr>\n",
       "    <tr>\n",
       "      <td>yZzzzzz_849853</td>\n",
       "      <td>0.406</td>\n",
       "      <td>1000</td>\n",
       "    </tr>\n",
       "    <tr>\n",
       "      <td>yangquanwei_852303</td>\n",
       "      <td>0.141</td>\n",
       "      <td>1000</td>\n",
       "    </tr>\n",
       "    <tr>\n",
       "      <td>yuejiang_852934</td>\n",
       "      <td>0.391</td>\n",
       "      <td>1000</td>\n",
       "    </tr>\n",
       "    <tr>\n",
       "      <td>zhaobh_852336</td>\n",
       "      <td>0.323</td>\n",
       "      <td>1000</td>\n",
       "    </tr>\n",
       "    <tr>\n",
       "      <td>zz110_853170</td>\n",
       "      <td>0.190</td>\n",
       "      <td>1000</td>\n",
       "    </tr>\n",
       "  </tbody>\n",
       "</table>\n",
       "</div>"
      ],
      "text/plain": [
       "                   correct      \n",
       "                      mean count\n",
       "dataset                         \n",
       "DFGC_SYSU_852924     0.382  1000\n",
       "DFischerHDA_852673   0.467  1000\n",
       "ctmiu_853213         0.240  1000\n",
       "fake_baseline        0.409  1000\n",
       "jerryHUST_853638     0.382  1000\n",
       "joshhu_853266        0.326  1000\n",
       "lowtec_853184        0.263  1000\n",
       "miaotao_853000       0.256  1000\n",
       "nbhh_853436          0.333  1000\n",
       "real_fulls           0.631  1000\n",
       "seanseattle_853068   0.348  1000\n",
       "smartz_849705        0.226  1000\n",
       "wany_853175          0.353  1000\n",
       "yZzzzzz_849853       0.406  1000\n",
       "yangquanwei_852303   0.141  1000\n",
       "yuejiang_852934      0.391  1000\n",
       "zhaobh_852336        0.323  1000\n",
       "zz110_853170         0.190  1000"
      ]
     },
     "execution_count": 110,
     "metadata": {},
     "output_type": "execute_result"
    }
   ],
   "source": [
    "df.groupby('dataset')[['correct']].aggregate(['mean','count'])"
   ]
  },
  {
   "cell_type": "code",
   "execution_count": 111,
   "metadata": {
    "scrolled": true
   },
   "outputs": [
    {
     "data": {
      "text/plain": [
       "array([[ 5436, 11564],\n",
       "       [  369,   631]])"
      ]
     },
     "execution_count": 111,
     "metadata": {},
     "output_type": "execute_result"
    }
   ],
   "source": [
    "confusion_matrix(df['label'],df['pred'],labels=[0,1])"
   ]
  },
  {
   "cell_type": "code",
   "execution_count": 112,
   "metadata": {},
   "outputs": [
    {
     "name": "stdout",
     "output_type": "stream",
     "text": [
      "0.9444444444444444 0.33705555555555555\n"
     ]
    }
   ],
   "source": [
    "print(1-df['label'].mean(),(df['label']==df['pred']).mean())"
   ]
  },
  {
   "cell_type": "code",
   "execution_count": 113,
   "metadata": {},
   "outputs": [
    {
     "data": {
      "text/plain": [
       "0.4677083823529412"
      ]
     },
     "execution_count": 113,
     "metadata": {},
     "output_type": "execute_result"
    }
   ],
   "source": [
    "roc_auc_score(df['label'],df['probability'])"
   ]
  },
  {
   "cell_type": "code",
   "execution_count": 114,
   "metadata": {},
   "outputs": [
    {
     "data": {
      "image/png": "[encoded data removed]",
      "text/plain": [
       "<Figure size 432x288 with 1 Axes>"
      ]
     },
     "metadata": {
      "needs_background": "light"
     },
     "output_type": "display_data"
    }
   ],
   "source": [
    "plot_roc(df['label'],df['probability'])"
   ]
  },
  {
   "cell_type": "markdown",
   "metadata": {},
   "source": [
    "# Exploiting-Visual-Artifacts/dfgc2021_face2face"
   ]
  },
  {
   "cell_type": "code",
   "execution_count": 73,
   "metadata": {
    "scrolled": true
   },
   "outputs": [],
   "source": [
    "df=pd.read_csv('results/Exploiting-Visual-Artifacts/dfgc2021_face2face/scores.csv', index_col=0)\n",
    "df['probability']=df['Score_MLP']\n",
    "df['label']=df.index.map(lambda x: int('real' in x))\n",
    "df['pred']= (df['probability']>0.5).astype(np.int)\n",
    "df['dataset']=df.index.map(lambda u: u.split('/')[-2])\n",
    "df['correct']=(df['label']==df['pred']).astype(np.int)"
   ]
  },
  {
   "cell_type": "code",
   "execution_count": 74,
   "metadata": {},
   "outputs": [
    {
     "data": {
      "text/html": [
       "<div>\n",
       "<style scoped>\n",
       "    .dataframe tbody tr th:only-of-type {\n",
       "        vertical-align: middle;\n",
       "    }\n",
       "\n",
       "    .dataframe tbody tr th {\n",
       "        vertical-align: top;\n",
       "    }\n",
       "\n",
       "    .dataframe thead tr th {\n",
       "        text-align: left;\n",
       "    }\n",
       "\n",
       "    .dataframe thead tr:last-of-type th {\n",
       "        text-align: right;\n",
       "    }\n",
       "</style>\n",
       "<table border=\"1\" class=\"dataframe\">\n",
       "  <thead>\n",
       "    <tr>\n",
       "      <th></th>\n",
       "      <th colspan=\"2\" halign=\"left\">correct</th>\n",
       "    </tr>\n",
       "    <tr>\n",
       "      <th></th>\n",
       "      <th>mean</th>\n",
       "      <th>count</th>\n",
       "    </tr>\n",
       "    <tr>\n",
       "      <th>dataset</th>\n",
       "      <th></th>\n",
       "      <th></th>\n",
       "    </tr>\n",
       "  </thead>\n",
       "  <tbody>\n",
       "    <tr>\n",
       "      <td>DFGC_SYSU_852924</td>\n",
       "      <td>0.981</td>\n",
       "      <td>1000</td>\n",
       "    </tr>\n",
       "    <tr>\n",
       "      <td>DFischerHDA_852673</td>\n",
       "      <td>0.800</td>\n",
       "      <td>1000</td>\n",
       "    </tr>\n",
       "    <tr>\n",
       "      <td>ctmiu_853213</td>\n",
       "      <td>0.952</td>\n",
       "      <td>1000</td>\n",
       "    </tr>\n",
       "    <tr>\n",
       "      <td>fake_baseline</td>\n",
       "      <td>0.847</td>\n",
       "      <td>1000</td>\n",
       "    </tr>\n",
       "    <tr>\n",
       "      <td>jerryHUST_853638</td>\n",
       "      <td>0.940</td>\n",
       "      <td>1000</td>\n",
       "    </tr>\n",
       "    <tr>\n",
       "      <td>joshhu_853266</td>\n",
       "      <td>0.957</td>\n",
       "      <td>1000</td>\n",
       "    </tr>\n",
       "    <tr>\n",
       "      <td>lowtec_853184</td>\n",
       "      <td>0.924</td>\n",
       "      <td>1000</td>\n",
       "    </tr>\n",
       "    <tr>\n",
       "      <td>miaotao_853000</td>\n",
       "      <td>0.980</td>\n",
       "      <td>1000</td>\n",
       "    </tr>\n",
       "    <tr>\n",
       "      <td>nbhh_853436</td>\n",
       "      <td>0.989</td>\n",
       "      <td>1000</td>\n",
       "    </tr>\n",
       "    <tr>\n",
       "      <td>real_fulls</td>\n",
       "      <td>0.135</td>\n",
       "      <td>1000</td>\n",
       "    </tr>\n",
       "    <tr>\n",
       "      <td>seanseattle_853068</td>\n",
       "      <td>0.938</td>\n",
       "      <td>1000</td>\n",
       "    </tr>\n",
       "    <tr>\n",
       "      <td>smartz_849705</td>\n",
       "      <td>0.779</td>\n",
       "      <td>1000</td>\n",
       "    </tr>\n",
       "    <tr>\n",
       "      <td>wany_853175</td>\n",
       "      <td>0.722</td>\n",
       "      <td>1000</td>\n",
       "    </tr>\n",
       "    <tr>\n",
       "      <td>yZzzzzz_849853</td>\n",
       "      <td>0.835</td>\n",
       "      <td>1000</td>\n",
       "    </tr>\n",
       "    <tr>\n",
       "      <td>yangquanwei_852303</td>\n",
       "      <td>0.808</td>\n",
       "      <td>1000</td>\n",
       "    </tr>\n",
       "    <tr>\n",
       "      <td>yuejiang_852934</td>\n",
       "      <td>0.804</td>\n",
       "      <td>1000</td>\n",
       "    </tr>\n",
       "    <tr>\n",
       "      <td>zhaobh_852336</td>\n",
       "      <td>0.849</td>\n",
       "      <td>1000</td>\n",
       "    </tr>\n",
       "    <tr>\n",
       "      <td>zz110_853170</td>\n",
       "      <td>0.849</td>\n",
       "      <td>1000</td>\n",
       "    </tr>\n",
       "  </tbody>\n",
       "</table>\n",
       "</div>"
      ],
      "text/plain": [
       "                   correct      \n",
       "                      mean count\n",
       "dataset                         \n",
       "DFGC_SYSU_852924     0.981  1000\n",
       "DFischerHDA_852673   0.800  1000\n",
       "ctmiu_853213         0.952  1000\n",
       "fake_baseline        0.847  1000\n",
       "jerryHUST_853638     0.940  1000\n",
       "joshhu_853266        0.957  1000\n",
       "lowtec_853184        0.924  1000\n",
       "miaotao_853000       0.980  1000\n",
       "nbhh_853436          0.989  1000\n",
       "real_fulls           0.135  1000\n",
       "seanseattle_853068   0.938  1000\n",
       "smartz_849705        0.779  1000\n",
       "wany_853175          0.722  1000\n",
       "yZzzzzz_849853       0.835  1000\n",
       "yangquanwei_852303   0.808  1000\n",
       "yuejiang_852934      0.804  1000\n",
       "zhaobh_852336        0.849  1000\n",
       "zz110_853170         0.849  1000"
      ]
     },
     "execution_count": 74,
     "metadata": {},
     "output_type": "execute_result"
    }
   ],
   "source": [
    "df.groupby('dataset')[['correct']].aggregate(['mean','count'])"
   ]
  },
  {
   "cell_type": "code",
   "execution_count": 75,
   "metadata": {
    "scrolled": true
   },
   "outputs": [
    {
     "data": {
      "text/plain": [
       "array([[14954,  2046],\n",
       "       [  865,   135]])"
      ]
     },
     "execution_count": 75,
     "metadata": {},
     "output_type": "execute_result"
    }
   ],
   "source": [
    "confusion_matrix(df['label'],df['pred'],labels=[0,1])"
   ]
  },
  {
   "cell_type": "code",
   "execution_count": 76,
   "metadata": {},
   "outputs": [
    {
     "name": "stdout",
     "output_type": "stream",
     "text": [
      "0.9444444444444444 0.8382777777777778\n"
     ]
    }
   ],
   "source": [
    "print(1-df['label'].mean(),(df['label']==df['pred']).mean())"
   ]
  },
  {
   "cell_type": "code",
   "execution_count": 77,
   "metadata": {},
   "outputs": [
    {
     "data": {
      "text/plain": [
       "0.4931554117647059"
      ]
     },
     "execution_count": 77,
     "metadata": {},
     "output_type": "execute_result"
    }
   ],
   "source": [
    "roc_auc_score(df['label'],df['probability'])"
   ]
  },
  {
   "cell_type": "code",
   "execution_count": 78,
   "metadata": {},
   "outputs": [
    {
     "data": {
      "image/png": "[encoded data removed]",
      "text/plain": [
       "<Figure size 432x288 with 1 Axes>"
      ]
     },
     "metadata": {
      "needs_background": "light"
     },
     "output_type": "display_data"
    }
   ],
   "source": [
    "plot_roc(df['label'],df['probability'])"
   ]
  },
  {
   "cell_type": "markdown",
   "metadata": {},
   "source": [
    "# Exploiting-Visual-Artifacts/dfgc2021_deepfake"
   ]
  },
  {
   "cell_type": "code",
   "execution_count": 66,
   "metadata": {
    "scrolled": true
   },
   "outputs": [],
   "source": [
    "df=pd.read_csv('results/Exploiting-Visual-Artifacts/dfgc2021_deepfake/scores.csv', index_col=0)\n",
    "df['probability']=df['Score_MLP']\n",
    "df['label']=df.index.map(lambda x: int('real' in x))\n",
    "df['pred']= (df['probability']>0.5).astype(np.int)\n",
    "df['dataset']=df.index.map(lambda u: u.split('/')[-2])\n",
    "df['correct']=(df['label']==df['pred']).astype(np.int)"
   ]
  },
  {
   "cell_type": "code",
   "execution_count": 68,
   "metadata": {},
   "outputs": [
    {
     "data": {
      "text/html": [
       "<div>\n",
       "<style scoped>\n",
       "    .dataframe tbody tr th:only-of-type {\n",
       "        vertical-align: middle;\n",
       "    }\n",
       "\n",
       "    .dataframe tbody tr th {\n",
       "        vertical-align: top;\n",
       "    }\n",
       "\n",
       "    .dataframe thead tr th {\n",
       "        text-align: left;\n",
       "    }\n",
       "\n",
       "    .dataframe thead tr:last-of-type th {\n",
       "        text-align: right;\n",
       "    }\n",
       "</style>\n",
       "<table border=\"1\" class=\"dataframe\">\n",
       "  <thead>\n",
       "    <tr>\n",
       "      <th></th>\n",
       "      <th colspan=\"2\" halign=\"left\">correct</th>\n",
       "    </tr>\n",
       "    <tr>\n",
       "      <th></th>\n",
       "      <th>mean</th>\n",
       "      <th>count</th>\n",
       "    </tr>\n",
       "    <tr>\n",
       "      <th>dataset</th>\n",
       "      <th></th>\n",
       "      <th></th>\n",
       "    </tr>\n",
       "  </thead>\n",
       "  <tbody>\n",
       "    <tr>\n",
       "      <td>DFGC_SYSU_852924</td>\n",
       "      <td>0.876</td>\n",
       "      <td>1000</td>\n",
       "    </tr>\n",
       "    <tr>\n",
       "      <td>DFischerHDA_852673</td>\n",
       "      <td>0.898</td>\n",
       "      <td>1000</td>\n",
       "    </tr>\n",
       "    <tr>\n",
       "      <td>ctmiu_853213</td>\n",
       "      <td>0.887</td>\n",
       "      <td>1000</td>\n",
       "    </tr>\n",
       "    <tr>\n",
       "      <td>fake_baseline</td>\n",
       "      <td>0.875</td>\n",
       "      <td>1000</td>\n",
       "    </tr>\n",
       "    <tr>\n",
       "      <td>jerryHUST_853638</td>\n",
       "      <td>0.870</td>\n",
       "      <td>1000</td>\n",
       "    </tr>\n",
       "    <tr>\n",
       "      <td>joshhu_853266</td>\n",
       "      <td>0.886</td>\n",
       "      <td>1000</td>\n",
       "    </tr>\n",
       "    <tr>\n",
       "      <td>lowtec_853184</td>\n",
       "      <td>0.904</td>\n",
       "      <td>1000</td>\n",
       "    </tr>\n",
       "    <tr>\n",
       "      <td>miaotao_853000</td>\n",
       "      <td>0.990</td>\n",
       "      <td>1000</td>\n",
       "    </tr>\n",
       "    <tr>\n",
       "      <td>nbhh_853436</td>\n",
       "      <td>0.885</td>\n",
       "      <td>1000</td>\n",
       "    </tr>\n",
       "    <tr>\n",
       "      <td>real_fulls</td>\n",
       "      <td>0.177</td>\n",
       "      <td>1000</td>\n",
       "    </tr>\n",
       "    <tr>\n",
       "      <td>seanseattle_853068</td>\n",
       "      <td>0.857</td>\n",
       "      <td>1000</td>\n",
       "    </tr>\n",
       "    <tr>\n",
       "      <td>smartz_849705</td>\n",
       "      <td>0.965</td>\n",
       "      <td>1000</td>\n",
       "    </tr>\n",
       "    <tr>\n",
       "      <td>wany_853175</td>\n",
       "      <td>0.992</td>\n",
       "      <td>1000</td>\n",
       "    </tr>\n",
       "    <tr>\n",
       "      <td>yZzzzzz_849853</td>\n",
       "      <td>0.911</td>\n",
       "      <td>1000</td>\n",
       "    </tr>\n",
       "    <tr>\n",
       "      <td>yangquanwei_852303</td>\n",
       "      <td>0.833</td>\n",
       "      <td>1000</td>\n",
       "    </tr>\n",
       "    <tr>\n",
       "      <td>yuejiang_852934</td>\n",
       "      <td>0.937</td>\n",
       "      <td>1000</td>\n",
       "    </tr>\n",
       "    <tr>\n",
       "      <td>zhaobh_852336</td>\n",
       "      <td>0.857</td>\n",
       "      <td>1000</td>\n",
       "    </tr>\n",
       "    <tr>\n",
       "      <td>zz110_853170</td>\n",
       "      <td>0.976</td>\n",
       "      <td>1000</td>\n",
       "    </tr>\n",
       "  </tbody>\n",
       "</table>\n",
       "</div>"
      ],
      "text/plain": [
       "                   correct      \n",
       "                      mean count\n",
       "dataset                         \n",
       "DFGC_SYSU_852924     0.876  1000\n",
       "DFischerHDA_852673   0.898  1000\n",
       "ctmiu_853213         0.887  1000\n",
       "fake_baseline        0.875  1000\n",
       "jerryHUST_853638     0.870  1000\n",
       "joshhu_853266        0.886  1000\n",
       "lowtec_853184        0.904  1000\n",
       "miaotao_853000       0.990  1000\n",
       "nbhh_853436          0.885  1000\n",
       "real_fulls           0.177  1000\n",
       "seanseattle_853068   0.857  1000\n",
       "smartz_849705        0.965  1000\n",
       "wany_853175          0.992  1000\n",
       "yZzzzzz_849853       0.911  1000\n",
       "yangquanwei_852303   0.833  1000\n",
       "yuejiang_852934      0.937  1000\n",
       "zhaobh_852336        0.857  1000\n",
       "zz110_853170         0.976  1000"
      ]
     },
     "execution_count": 68,
     "metadata": {},
     "output_type": "execute_result"
    }
   ],
   "source": [
    "df.groupby('dataset')[['correct']].aggregate(['mean','count'])"
   ]
  },
  {
   "cell_type": "code",
   "execution_count": 69,
   "metadata": {
    "scrolled": true
   },
   "outputs": [
    {
     "data": {
      "text/plain": [
       "array([[15399,  1601],\n",
       "       [  823,   177]])"
      ]
     },
     "execution_count": 69,
     "metadata": {},
     "output_type": "execute_result"
    }
   ],
   "source": [
    "confusion_matrix(df['label'],df['pred'],labels=[0,1])"
   ]
  },
  {
   "cell_type": "code",
   "execution_count": 70,
   "metadata": {},
   "outputs": [
    {
     "name": "stdout",
     "output_type": "stream",
     "text": [
      "0.9444444444444444 0.8653333333333333\n"
     ]
    }
   ],
   "source": [
    "print(1-df['label'].mean(),(df['label']==df['pred']).mean())"
   ]
  },
  {
   "cell_type": "code",
   "execution_count": 71,
   "metadata": {},
   "outputs": [
    {
     "data": {
      "text/plain": [
       "0.5506150588235295"
      ]
     },
     "execution_count": 71,
     "metadata": {},
     "output_type": "execute_result"
    }
   ],
   "source": [
    "roc_auc_score(df['label'],df['probability'])"
   ]
  },
  {
   "cell_type": "code",
   "execution_count": 72,
   "metadata": {},
   "outputs": [
    {
     "data": {
      "image/png": "[encoded data removed]",
      "text/plain": [
       "<Figure size 432x288 with 1 Axes>"
      ]
     },
     "metadata": {
      "needs_background": "light"
     },
     "output_type": "display_data"
    }
   ],
   "source": [
    "plot_roc(df['label'],df['probability'])"
   ]
  },
  {
   "cell_type": "markdown",
   "metadata": {},
   "source": [
    "# CVPRW2019_Face_Artifacts"
   ]
  },
  {
   "cell_type": "code",
   "execution_count": 52,
   "metadata": {},
   "outputs": [],
   "source": [
    "with open('results/CVPRW2019_Face_Artifacts/dfgc2021.json') as f:\n",
    "    j=json.load(f)\n",
    "df=pd.DataFrame(j).set_index('file_name')\n",
    "#df.columns=['headpose_forensic_'+x for x in df.columns]\n",
    "df['label']=df.index.map(lambda x: int('real' in x))\n",
    "df['pred']= (df['probability']>0.5).astype(np.int)\n",
    "df['dataset']=df.index.map(lambda u: u.split('/')[-2])\n",
    "df['correct']=(df['label']==df['pred']).astype(np.int)"
   ]
  },
  {
   "cell_type": "code",
   "execution_count": 54,
   "metadata": {},
   "outputs": [
    {
     "data": {
      "text/html": [
       "<div>\n",
       "<style scoped>\n",
       "    .dataframe tbody tr th:only-of-type {\n",
       "        vertical-align: middle;\n",
       "    }\n",
       "\n",
       "    .dataframe tbody tr th {\n",
       "        vertical-align: top;\n",
       "    }\n",
       "\n",
       "    .dataframe thead tr th {\n",
       "        text-align: left;\n",
       "    }\n",
       "\n",
       "    .dataframe thead tr:last-of-type th {\n",
       "        text-align: right;\n",
       "    }\n",
       "</style>\n",
       "<table border=\"1\" class=\"dataframe\">\n",
       "  <thead>\n",
       "    <tr>\n",
       "      <th></th>\n",
       "      <th colspan=\"2\" halign=\"left\">correct</th>\n",
       "    </tr>\n",
       "    <tr>\n",
       "      <th></th>\n",
       "      <th>mean</th>\n",
       "      <th>count</th>\n",
       "    </tr>\n",
       "    <tr>\n",
       "      <th>dataset</th>\n",
       "      <th></th>\n",
       "      <th></th>\n",
       "    </tr>\n",
       "  </thead>\n",
       "  <tbody>\n",
       "    <tr>\n",
       "      <td>DFGC_SYSU_852924</td>\n",
       "      <td>0.778</td>\n",
       "      <td>1000</td>\n",
       "    </tr>\n",
       "    <tr>\n",
       "      <td>DFischerHDA_852673</td>\n",
       "      <td>0.252</td>\n",
       "      <td>1000</td>\n",
       "    </tr>\n",
       "    <tr>\n",
       "      <td>ctmiu_853213</td>\n",
       "      <td>0.082</td>\n",
       "      <td>1000</td>\n",
       "    </tr>\n",
       "    <tr>\n",
       "      <td>fake_baseline</td>\n",
       "      <td>0.221</td>\n",
       "      <td>1000</td>\n",
       "    </tr>\n",
       "    <tr>\n",
       "      <td>jerryHUST_853638</td>\n",
       "      <td>0.869</td>\n",
       "      <td>1000</td>\n",
       "    </tr>\n",
       "    <tr>\n",
       "      <td>joshhu_853266</td>\n",
       "      <td>0.041</td>\n",
       "      <td>1000</td>\n",
       "    </tr>\n",
       "    <tr>\n",
       "      <td>lowtec_853184</td>\n",
       "      <td>0.933</td>\n",
       "      <td>1000</td>\n",
       "    </tr>\n",
       "    <tr>\n",
       "      <td>miaotao_853000</td>\n",
       "      <td>0.865</td>\n",
       "      <td>1000</td>\n",
       "    </tr>\n",
       "    <tr>\n",
       "      <td>nbhh_853436</td>\n",
       "      <td>0.980</td>\n",
       "      <td>1000</td>\n",
       "    </tr>\n",
       "    <tr>\n",
       "      <td>real_fulls</td>\n",
       "      <td>0.471</td>\n",
       "      <td>1000</td>\n",
       "    </tr>\n",
       "    <tr>\n",
       "      <td>seanseattle_853068</td>\n",
       "      <td>0.982</td>\n",
       "      <td>1000</td>\n",
       "    </tr>\n",
       "    <tr>\n",
       "      <td>smartz_849705</td>\n",
       "      <td>0.690</td>\n",
       "      <td>1000</td>\n",
       "    </tr>\n",
       "    <tr>\n",
       "      <td>wany_853175</td>\n",
       "      <td>0.988</td>\n",
       "      <td>1000</td>\n",
       "    </tr>\n",
       "    <tr>\n",
       "      <td>yZzzzzz_849853</td>\n",
       "      <td>0.964</td>\n",
       "      <td>1000</td>\n",
       "    </tr>\n",
       "    <tr>\n",
       "      <td>yangquanwei_852303</td>\n",
       "      <td>0.275</td>\n",
       "      <td>1000</td>\n",
       "    </tr>\n",
       "    <tr>\n",
       "      <td>yuejiang_852934</td>\n",
       "      <td>0.337</td>\n",
       "      <td>1000</td>\n",
       "    </tr>\n",
       "    <tr>\n",
       "      <td>zhaobh_852336</td>\n",
       "      <td>0.641</td>\n",
       "      <td>1000</td>\n",
       "    </tr>\n",
       "    <tr>\n",
       "      <td>zz110_853170</td>\n",
       "      <td>0.084</td>\n",
       "      <td>1000</td>\n",
       "    </tr>\n",
       "  </tbody>\n",
       "</table>\n",
       "</div>"
      ],
      "text/plain": [
       "                   correct      \n",
       "                      mean count\n",
       "dataset                         \n",
       "DFGC_SYSU_852924     0.778  1000\n",
       "DFischerHDA_852673   0.252  1000\n",
       "ctmiu_853213         0.082  1000\n",
       "fake_baseline        0.221  1000\n",
       "jerryHUST_853638     0.869  1000\n",
       "joshhu_853266        0.041  1000\n",
       "lowtec_853184        0.933  1000\n",
       "miaotao_853000       0.865  1000\n",
       "nbhh_853436          0.980  1000\n",
       "real_fulls           0.471  1000\n",
       "seanseattle_853068   0.982  1000\n",
       "smartz_849705        0.690  1000\n",
       "wany_853175          0.988  1000\n",
       "yZzzzzz_849853       0.964  1000\n",
       "yangquanwei_852303   0.275  1000\n",
       "yuejiang_852934      0.337  1000\n",
       "zhaobh_852336        0.641  1000\n",
       "zz110_853170         0.084  1000"
      ]
     },
     "execution_count": 54,
     "metadata": {},
     "output_type": "execute_result"
    }
   ],
   "source": [
    "df.groupby('dataset')[['correct']].aggregate(['mean','count'])"
   ]
  },
  {
   "cell_type": "code",
   "execution_count": 55,
   "metadata": {
    "scrolled": true
   },
   "outputs": [
    {
     "data": {
      "text/plain": [
       "array([[9982, 7018],\n",
       "       [ 529,  471]])"
      ]
     },
     "execution_count": 55,
     "metadata": {},
     "output_type": "execute_result"
    }
   ],
   "source": [
    "confusion_matrix(df['label'],df['pred'],labels=[0,1])"
   ]
  },
  {
   "cell_type": "code",
   "execution_count": 56,
   "metadata": {},
   "outputs": [
    {
     "name": "stdout",
     "output_type": "stream",
     "text": [
      "0.9444444444444444 0.5807222222222223\n"
     ]
    }
   ],
   "source": [
    "print(1-df['label'].mean(),(df['label']==df['pred']).mean())"
   ]
  },
  {
   "cell_type": "code",
   "execution_count": 57,
   "metadata": {},
   "outputs": [
    {
     "data": {
      "text/plain": [
       "0.539582294117647"
      ]
     },
     "execution_count": 57,
     "metadata": {},
     "output_type": "execute_result"
    }
   ],
   "source": [
    "roc_auc_score(df['label'],df['probability'])"
   ]
  },
  {
   "cell_type": "code",
   "execution_count": 58,
   "metadata": {},
   "outputs": [
    {
     "data": {
      "image/png": "[encoded data removed]",
      "text/plain": [
       "<Figure size 432x288 with 1 Axes>"
      ]
     },
     "metadata": {
      "needs_background": "light"
     },
     "output_type": "display_data"
    }
   ],
   "source": [
    "plot_roc(df['label'],df['probability'])"
   ]
  },
  {
   "cell_type": "markdown",
   "metadata": {},
   "source": [
    "# headpose_forensic"
   ]
  },
  {
   "cell_type": "code",
   "execution_count": 28,
   "metadata": {},
   "outputs": [],
   "source": [
    "with open('results/headpose_forensic/dfgc2021.json') as f:\n",
    "    j=json.load(f)\n",
    "df=pd.DataFrame(j).set_index('file_name')\n",
    "#df.columns=['headpose_forensic_'+x for x in df.columns]\n",
    "df['label']=df.index.map(lambda x: int('real' in x))\n",
    "df['pred']= (df['probability']>0.5).astype(np.int)"
   ]
  },
  {
   "cell_type": "code",
   "execution_count": 46,
   "metadata": {},
   "outputs": [],
   "source": [
    "df['dataset']=df.index.map(lambda u: u.split('/')[-2])\n",
    "df['correct']=(df['label']==df['pred']).astype(np.int)"
   ]
  },
  {
   "cell_type": "code",
   "execution_count": 49,
   "metadata": {},
   "outputs": [
    {
     "data": {
      "text/html": [
       "<div>\n",
       "<style scoped>\n",
       "    .dataframe tbody tr th:only-of-type {\n",
       "        vertical-align: middle;\n",
       "    }\n",
       "\n",
       "    .dataframe tbody tr th {\n",
       "        vertical-align: top;\n",
       "    }\n",
       "\n",
       "    .dataframe thead tr th {\n",
       "        text-align: left;\n",
       "    }\n",
       "\n",
       "    .dataframe thead tr:last-of-type th {\n",
       "        text-align: right;\n",
       "    }\n",
       "</style>\n",
       "<table border=\"1\" class=\"dataframe\">\n",
       "  <thead>\n",
       "    <tr>\n",
       "      <th></th>\n",
       "      <th colspan=\"2\" halign=\"left\">correct</th>\n",
       "    </tr>\n",
       "    <tr>\n",
       "      <th></th>\n",
       "      <th>mean</th>\n",
       "      <th>count</th>\n",
       "    </tr>\n",
       "    <tr>\n",
       "      <th>dataset</th>\n",
       "      <th></th>\n",
       "      <th></th>\n",
       "    </tr>\n",
       "  </thead>\n",
       "  <tbody>\n",
       "    <tr>\n",
       "      <td>DFGC_SYSU_852924</td>\n",
       "      <td>0.830</td>\n",
       "      <td>1000</td>\n",
       "    </tr>\n",
       "    <tr>\n",
       "      <td>DFischerHDA_852673</td>\n",
       "      <td>0.828</td>\n",
       "      <td>1000</td>\n",
       "    </tr>\n",
       "    <tr>\n",
       "      <td>ctmiu_853213</td>\n",
       "      <td>0.807</td>\n",
       "      <td>1000</td>\n",
       "    </tr>\n",
       "    <tr>\n",
       "      <td>fake_baseline</td>\n",
       "      <td>0.837</td>\n",
       "      <td>1000</td>\n",
       "    </tr>\n",
       "    <tr>\n",
       "      <td>jerryHUST_853638</td>\n",
       "      <td>0.862</td>\n",
       "      <td>1000</td>\n",
       "    </tr>\n",
       "    <tr>\n",
       "      <td>joshhu_853266</td>\n",
       "      <td>0.845</td>\n",
       "      <td>1000</td>\n",
       "    </tr>\n",
       "    <tr>\n",
       "      <td>lowtec_853184</td>\n",
       "      <td>0.810</td>\n",
       "      <td>1000</td>\n",
       "    </tr>\n",
       "    <tr>\n",
       "      <td>miaotao_853000</td>\n",
       "      <td>0.826</td>\n",
       "      <td>1000</td>\n",
       "    </tr>\n",
       "    <tr>\n",
       "      <td>nbhh_853436</td>\n",
       "      <td>0.875</td>\n",
       "      <td>1000</td>\n",
       "    </tr>\n",
       "    <tr>\n",
       "      <td>real_fulls</td>\n",
       "      <td>0.204</td>\n",
       "      <td>1000</td>\n",
       "    </tr>\n",
       "    <tr>\n",
       "      <td>seanseattle_853068</td>\n",
       "      <td>0.859</td>\n",
       "      <td>1000</td>\n",
       "    </tr>\n",
       "    <tr>\n",
       "      <td>smartz_849705</td>\n",
       "      <td>0.778</td>\n",
       "      <td>1000</td>\n",
       "    </tr>\n",
       "    <tr>\n",
       "      <td>wany_853175</td>\n",
       "      <td>0.811</td>\n",
       "      <td>1000</td>\n",
       "    </tr>\n",
       "    <tr>\n",
       "      <td>yZzzzzz_849853</td>\n",
       "      <td>0.843</td>\n",
       "      <td>1000</td>\n",
       "    </tr>\n",
       "    <tr>\n",
       "      <td>yangquanwei_852303</td>\n",
       "      <td>0.794</td>\n",
       "      <td>1000</td>\n",
       "    </tr>\n",
       "    <tr>\n",
       "      <td>yuejiang_852934</td>\n",
       "      <td>0.957</td>\n",
       "      <td>1000</td>\n",
       "    </tr>\n",
       "    <tr>\n",
       "      <td>zhaobh_852336</td>\n",
       "      <td>0.809</td>\n",
       "      <td>1000</td>\n",
       "    </tr>\n",
       "    <tr>\n",
       "      <td>zz110_853170</td>\n",
       "      <td>0.834</td>\n",
       "      <td>1000</td>\n",
       "    </tr>\n",
       "  </tbody>\n",
       "</table>\n",
       "</div>"
      ],
      "text/plain": [
       "                   correct      \n",
       "                      mean count\n",
       "dataset                         \n",
       "DFGC_SYSU_852924     0.830  1000\n",
       "DFischerHDA_852673   0.828  1000\n",
       "ctmiu_853213         0.807  1000\n",
       "fake_baseline        0.837  1000\n",
       "jerryHUST_853638     0.862  1000\n",
       "joshhu_853266        0.845  1000\n",
       "lowtec_853184        0.810  1000\n",
       "miaotao_853000       0.826  1000\n",
       "nbhh_853436          0.875  1000\n",
       "real_fulls           0.204  1000\n",
       "seanseattle_853068   0.859  1000\n",
       "smartz_849705        0.778  1000\n",
       "wany_853175          0.811  1000\n",
       "yZzzzzz_849853       0.843  1000\n",
       "yangquanwei_852303   0.794  1000\n",
       "yuejiang_852934      0.957  1000\n",
       "zhaobh_852336        0.809  1000\n",
       "zz110_853170         0.834  1000"
      ]
     },
     "execution_count": 49,
     "metadata": {},
     "output_type": "execute_result"
    }
   ],
   "source": [
    "df.groupby('dataset')[['correct']].aggregate(['mean','count'])"
   ]
  },
  {
   "cell_type": "code",
   "execution_count": 32,
   "metadata": {
    "scrolled": true
   },
   "outputs": [
    {
     "data": {
      "text/plain": [
       "array([[14205,  2795],\n",
       "       [  796,   204]])"
      ]
     },
     "execution_count": 32,
     "metadata": {},
     "output_type": "execute_result"
    }
   ],
   "source": [
    "confusion_matrix(df['label'],df['pred'],labels=[0,1])"
   ]
  },
  {
   "cell_type": "code",
   "execution_count": 41,
   "metadata": {},
   "outputs": [
    {
     "name": "stdout",
     "output_type": "stream",
     "text": [
      "0.9444444444444444 0.8005\n"
     ]
    }
   ],
   "source": [
    "print(1-df['label'].mean(),(df['label']==df['pred']).mean())"
   ]
  },
  {
   "cell_type": "code",
   "execution_count": 34,
   "metadata": {},
   "outputs": [
    {
     "data": {
      "text/plain": [
       "0.5188052941176471"
      ]
     },
     "execution_count": 34,
     "metadata": {},
     "output_type": "execute_result"
    }
   ],
   "source": [
    "roc_auc_score(df['label'],df['probability'])"
   ]
  },
  {
   "cell_type": "code",
   "execution_count": 39,
   "metadata": {},
   "outputs": [
    {
     "data": {
      "image/png": "[encoded data removed]",
      "text/plain": [
       "<Figure size 432x288 with 1 Axes>"
      ]
     },
     "metadata": {
      "needs_background": "light"
     },
     "output_type": "display_data"
    }
   ],
   "source": [
    "plot_roc(df['label'],df['probability'])"
   ]
  },
  {
   "cell_type": "code",
   "execution_count": null,
   "metadata": {},
   "outputs": [],
   "source": []
  }
 ],
 "metadata": {
  "kernelspec": {
   "display_name": "Python 3",
   "language": "python",
   "name": "python3"
  },
  "language_info": {
   "codemirror_mode": {
    "name": "ipython",
    "version": 3
   },
   "file_extension": ".py",
   "mimetype": "text/x-python",
   "name": "python",
   "nbconvert_exporter": "python",
   "pygments_lexer": "ipython3",
   "version": "3.8.5"
  }
 },
 "nbformat": 4,
 "nbformat_minor": 2
}
