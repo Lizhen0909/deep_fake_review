{
 "cells": [
  {
   "cell_type": "code",
   "execution_count": 1,
   "metadata": {},
   "outputs": [],
   "source": [
    "import os,sys"
   ]
  },
  {
   "cell_type": "code",
   "execution_count": 2,
   "metadata": {},
   "outputs": [],
   "source": [
    "files1=!find  `pwd`/data/data9/ -name \\*.jpg \n",
    "files2=!find `pwd`/data/data9/ -name \\*.png \n",
    "files=files1+files2 "
   ]
  },
  {
   "cell_type": "code",
   "execution_count": 3,
   "metadata": {},
   "outputs": [
    {
     "data": {
      "text/plain": [
       "74337"
      ]
     },
     "execution_count": 3,
     "metadata": {},
     "output_type": "execute_result"
    }
   ],
   "source": [
    "len(files)"
   ]
  },
  {
   "cell_type": "code",
   "execution_count": 4,
   "metadata": {},
   "outputs": [
    {
     "data": {
      "text/plain": [
       "['/global/home/users/lizhen/mydev/deep_fake_review/data/data9/faceapp/FaceApp_1595172258325.jpg',\n",
       " '/global/home/users/lizhen/mydev/deep_fake_review/data/data9/faceapp/FaceApp_1595169655304.jpg',\n",
       " '/global/home/users/lizhen/mydev/deep_fake_review/data/data9/faceapp/FaceApp_1595153374933.jpg']"
      ]
     },
     "execution_count": 4,
     "metadata": {},
     "output_type": "execute_result"
    }
   ],
   "source": [
    "files[:3]"
   ]
  },
  {
   "cell_type": "code",
   "execution_count": 5,
   "metadata": {},
   "outputs": [],
   "source": [
    "with open('/tmp/inputlist', 'wt') as f:\n",
    "    f.write(\"\\n\".join(files))"
   ]
  },
  {
   "cell_type": "code",
   "execution_count": 6,
   "metadata": {},
   "outputs": [
    {
     "name": "stdout",
     "output_type": "stream",
     "text": [
      "/global/home/users/lizhen/mydev/deep_fake_review/data/data9/faceapp/FaceApp_1595172258325.jpg\r\n",
      "/global/home/users/lizhen/mydev/deep_fake_review/data/data9/faceapp/FaceApp_1595169655304.jpg\r\n",
      "/global/home/users/lizhen/mydev/deep_fake_review/data/data9/faceapp/FaceApp_1595153374933.jpg\r\n"
     ]
    }
   ],
   "source": [
    "!head -n 3 /tmp/inputlist"
   ]
  },
  {
   "cell_type": "code",
   "execution_count": 7,
   "metadata": {},
   "outputs": [],
   "source": [
    "!mkdir -p results/headpose_forensic/"
   ]
  },
  {
   "cell_type": "code",
   "execution_count": 12,
   "metadata": {},
   "outputs": [
    {
     "name": "stdout",
     "output_type": "stream",
     "text": [
      "('num of images=', 74337)\n",
      "\n",
      "CPU times: user 48 s, sys: 7.61 s, total: 55.6 s\n",
      "Wall time: 51min 46s\n"
     ]
    }
   ],
   "source": [
    "%%time\n",
    "!cd headpose_forensic && \\\n",
    "PYTHONPATH=. conda run -n headpose_forensic \\\n",
    "python  ../headpose_forensic_run_test.py \\\n",
    "--input_list_file /tmp/inputlist \\\n",
    "--classifier_path models/trained_models/R_full_mat_t_vec_model.p \\\n",
    "--save_file=../results/headpose_forensic/data9.json"
   ]
  },
  {
   "cell_type": "code",
   "execution_count": 13,
   "metadata": {},
   "outputs": [],
   "source": [
    "import json\n",
    "with open('results/headpose_forensic/data9.json', 'rt') as f:\n",
    "    l=json.load(f)"
   ]
  },
  {
   "cell_type": "code",
   "execution_count": 14,
   "metadata": {},
   "outputs": [
    {
     "data": {
      "text/plain": [
       "74337"
      ]
     },
     "execution_count": 14,
     "metadata": {},
     "output_type": "execute_result"
    }
   ],
   "source": [
    "len(l)"
   ]
  },
  {
   "cell_type": "code",
   "execution_count": 15,
   "metadata": {},
   "outputs": [
    {
     "data": {
      "text/plain": [
       "[{'file_name': '/global/home/users/lizhen/mydev/deep_fake_review/data/data9/faceapp/FaceApp_1595172258325.jpg',\n",
       "  'probability': 0.3811181789181733,\n",
       "  'optout': False},\n",
       " {'file_name': '/global/home/users/lizhen/mydev/deep_fake_review/data/data9/faceapp/FaceApp_1595169655304.jpg',\n",
       "  'probability': 0,\n",
       "  'optout': True},\n",
       " {'file_name': '/global/home/users/lizhen/mydev/deep_fake_review/data/data9/faceapp/FaceApp_1595153374933.jpg',\n",
       "  'probability': 0.17416969750168365,\n",
       "  'optout': False},\n",
       " {'file_name': '/global/home/users/lizhen/mydev/deep_fake_review/data/data9/faceapp/FaceApp_1595172214491.jpg',\n",
       "  'probability': 0,\n",
       "  'optout': True},\n",
       " {'file_name': '/global/home/users/lizhen/mydev/deep_fake_review/data/data9/faceapp/FaceApp_1595163091432.jpg',\n",
       "  'probability': 0.29802668593014137,\n",
       "  'optout': False}]"
      ]
     },
     "execution_count": 15,
     "metadata": {},
     "output_type": "execute_result"
    }
   ],
   "source": [
    "l[:5]"
   ]
  },
  {
   "cell_type": "code",
   "execution_count": null,
   "metadata": {},
   "outputs": [],
   "source": []
  }
 ],
 "metadata": {
  "kernelspec": {
   "display_name": "Python 3",
   "language": "python",
   "name": "python3"
  },
  "language_info": {
   "codemirror_mode": {
    "name": "ipython",
    "version": 3
   },
   "file_extension": ".py",
   "mimetype": "text/x-python",
   "name": "python",
   "nbconvert_exporter": "python",
   "pygments_lexer": "ipython3",
   "version": "3.7.4"
  }
 },
 "nbformat": 4,
 "nbformat_minor": 2
}
