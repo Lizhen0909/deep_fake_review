{
 "cells": [
  {
   "cell_type": "code",
   "execution_count": 1,
   "metadata": {},
   "outputs": [],
   "source": [
    "import os,sys"
   ]
  },
  {
   "cell_type": "code",
   "execution_count": 2,
   "metadata": {},
   "outputs": [],
   "source": [
    "files1=!find  `pwd`/data/DFGC-2021-crop/ -name \\*.jpg \n",
    "files2=!find `pwd`/data/DFGC-2021-crop/ -name \\*.png \n",
    "files=files1+files2 "
   ]
  },
  {
   "cell_type": "code",
   "execution_count": 3,
   "metadata": {},
   "outputs": [
    {
     "data": {
      "text/plain": [
       "18000"
      ]
     },
     "execution_count": 3,
     "metadata": {},
     "output_type": "execute_result"
    }
   ],
   "source": [
    "len(files)"
   ]
  },
  {
   "cell_type": "code",
   "execution_count": 4,
   "metadata": {},
   "outputs": [
    {
     "data": {
      "text/plain": [
       "['/global/home/users/lizhen/mydev/deep_fake_review/data/DFGC-2021-crop/yZzzzzz_849853/id24_id26_0004_00060.jpg',\n",
       " '/global/home/users/lizhen/mydev/deep_fake_review/data/DFGC-2021-crop/yZzzzzz_849853/id28_id0_0009_00120.jpg',\n",
       " '/global/home/users/lizhen/mydev/deep_fake_review/data/DFGC-2021-crop/yZzzzzz_849853/id9_id6_0005_00060.jpg']"
      ]
     },
     "execution_count": 4,
     "metadata": {},
     "output_type": "execute_result"
    }
   ],
   "source": [
    "files[:3]"
   ]
  },
  {
   "cell_type": "code",
   "execution_count": 5,
   "metadata": {},
   "outputs": [],
   "source": [
    "with open('/tmp/inputlist_CVPRW2019_Face_Artifacts', 'wt') as f:\n",
    "    f.write(\"\\n\".join(files))"
   ]
  },
  {
   "cell_type": "code",
   "execution_count": 6,
   "metadata": {},
   "outputs": [
    {
     "name": "stdout",
     "output_type": "stream",
     "text": [
      "/global/home/users/lizhen/mydev/deep_fake_review/data/DFGC-2021-crop/yZzzzzz_849853/id24_id26_0004_00060.jpg\r\n",
      "/global/home/users/lizhen/mydev/deep_fake_review/data/DFGC-2021-crop/yZzzzzz_849853/id28_id0_0009_00120.jpg\r\n",
      "/global/home/users/lizhen/mydev/deep_fake_review/data/DFGC-2021-crop/yZzzzzz_849853/id9_id6_0005_00060.jpg\r\n"
     ]
    }
   ],
   "source": [
    "!head -n 3 /tmp/inputlist_CVPRW2019_Face_Artifacts"
   ]
  },
  {
   "cell_type": "code",
   "execution_count": 8,
   "metadata": {},
   "outputs": [],
   "source": [
    "!mkdir -p results/CVPRW2019_Face_Artifacts/"
   ]
  },
  {
   "cell_type": "code",
   "execution_count": 20,
   "metadata": {},
   "outputs": [
    {
     "name": "stdout",
     "output_type": "stream",
     "text": [
      "***********\n",
      "Detecting DeepFake images, prob == -1 denotes opt out\n",
      "***********\n",
      "/global/home/users/lizhen/mydev/deep_fake_review/CVPRW2019_Face_Artifacts\n",
      "Loading checkpoint /global/home/users/lizhen/mydev/deep_fake_review/CVPRW2019_Face_Artifacts/ckpt_res50/model\n",
      "('num of images=', 18000)\n",
      "\n",
      "2021-08-10 11:01:04.499833: W tensorflow/core/platform/cpu_feature_guard.cc:45] The TensorFlow library wasn't compiled to use SSE4.1 instructions, but these are available on your machine and could speed up CPU computations.\n",
      "2021-08-10 11:01:04.499878: W tensorflow/core/platform/cpu_feature_guard.cc:45] The TensorFlow library wasn't compiled to use SSE4.2 instructions, but these are available on your machine and could speed up CPU computations.\n",
      "2021-08-10 11:01:04.499884: W tensorflow/core/platform/cpu_feature_guard.cc:45] The TensorFlow library wasn't compiled to use AVX instructions, but these are available on your machine and could speed up CPU computations.\n",
      "2021-08-10 11:01:04.499888: W tensorflow/core/platform/cpu_feature_guard.cc:45] The TensorFlow library wasn't compiled to use AVX2 instructions, but these are available on your machine and could speed up CPU computations.\n",
      "2021-08-10 11:01:04.499892: W tensorflow/core/platform/cpu_feature_guard.cc:45] The TensorFlow library wasn't compiled to use FMA instructions, but these are available on your machine and could speed up CPU computations.\n",
      "\n",
      "CPU times: user 1min 50s, sys: 17.2 s, total: 2min 7s\n",
      "Wall time: 2h 5min 51s\n"
     ]
    }
   ],
   "source": [
    "%%time\n",
    "!cd CVPRW2019_Face_Artifacts && \\\n",
    "PYTHONPATH=. conda run -n CVPRW2019_Face_Artifacts \\\n",
    "python  ../CVPRW2019_Face_Artifacts_run_demo.py \\\n",
    "--input_list_file /tmp/inputlist_CVPRW2019_Face_Artifacts \\\n",
    "--save_file=../results/CVPRW2019_Face_Artifacts/dfgc2021.json"
   ]
  },
  {
   "cell_type": "code",
   "execution_count": 21,
   "metadata": {},
   "outputs": [
    {
     "data": {
      "text/plain": [
       "18000"
      ]
     },
     "execution_count": 21,
     "metadata": {},
     "output_type": "execute_result"
    }
   ],
   "source": [
    "import json\n",
    "with open('results/CVPRW2019_Face_Artifacts/dfgc2021.json', 'rt') as f:\n",
    "    l=json.load(f)\n",
    "len(l)    "
   ]
  },
  {
   "cell_type": "code",
   "execution_count": 22,
   "metadata": {},
   "outputs": [
    {
     "data": {
      "text/plain": [
       "[{'file_name': '/global/home/users/lizhen/mydev/deep_fake_review/data/DFGC-2021-crop/yZzzzzz_849853/id24_id26_0004_00060.jpg',\n",
       "  'probability': 0.001472192583605647},\n",
       " {'file_name': '/global/home/users/lizhen/mydev/deep_fake_review/data/DFGC-2021-crop/yZzzzzz_849853/id28_id0_0009_00120.jpg',\n",
       "  'probability': 0.06536280363798141},\n",
       " {'file_name': '/global/home/users/lizhen/mydev/deep_fake_review/data/DFGC-2021-crop/yZzzzzz_849853/id9_id6_0005_00060.jpg',\n",
       "  'probability': 0.012713251635432243},\n",
       " {'file_name': '/global/home/users/lizhen/mydev/deep_fake_review/data/DFGC-2021-crop/yZzzzzz_849853/id30_id3_0006_00060.jpg',\n",
       "  'probability': 0.04283462464809418},\n",
       " {'file_name': '/global/home/users/lizhen/mydev/deep_fake_review/data/DFGC-2021-crop/yZzzzzz_849853/id24_id20_0009_00000.jpg',\n",
       "  'probability': 0.026755372062325478}]"
      ]
     },
     "execution_count": 22,
     "metadata": {},
     "output_type": "execute_result"
    }
   ],
   "source": [
    "l[:5]"
   ]
  },
  {
   "cell_type": "code",
   "execution_count": null,
   "metadata": {},
   "outputs": [],
   "source": []
  }
 ],
 "metadata": {
  "kernelspec": {
   "display_name": "Python 3",
   "language": "python",
   "name": "python3"
  },
  "language_info": {
   "codemirror_mode": {
    "name": "ipython",
    "version": 3
   },
   "file_extension": ".py",
   "mimetype": "text/x-python",
   "name": "python",
   "nbconvert_exporter": "python",
   "pygments_lexer": "ipython3",
   "version": "3.7.4"
  }
 },
 "nbformat": 4,
 "nbformat_minor": 2
}
