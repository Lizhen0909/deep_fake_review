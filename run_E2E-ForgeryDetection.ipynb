{
 "cells": [
  {
   "cell_type": "code",
   "execution_count": 1,
   "metadata": {},
   "outputs": [],
   "source": [
    "import os,sys"
   ]
  },
  {
   "cell_type": "code",
   "execution_count": 2,
   "metadata": {},
   "outputs": [],
   "source": [
    "files1=!find  `pwd`/data/DFGC-2021-crop/ -name \\*.jpg \n",
    "files2=!find `pwd`/data/DFGC-2021-crop/ -name \\*.png \n",
    "files=files1+files2 "
   ]
  },
  {
   "cell_type": "code",
   "execution_count": 3,
   "metadata": {},
   "outputs": [
    {
     "data": {
      "text/plain": [
       "18000"
      ]
     },
     "execution_count": 3,
     "metadata": {},
     "output_type": "execute_result"
    }
   ],
   "source": [
    "len(files)"
   ]
  },
  {
   "cell_type": "code",
   "execution_count": 4,
   "metadata": {},
   "outputs": [
    {
     "data": {
      "text/plain": [
       "['/global/home/users/lizhen/mydev/deep_fake_review/data/DFGC-2021-crop/yZzzzzz_849853/id24_id26_0004_00060.jpg',\n",
       " '/global/home/users/lizhen/mydev/deep_fake_review/data/DFGC-2021-crop/yZzzzzz_849853/id28_id0_0009_00120.jpg',\n",
       " '/global/home/users/lizhen/mydev/deep_fake_review/data/DFGC-2021-crop/yZzzzzz_849853/id9_id6_0005_00060.jpg']"
      ]
     },
     "execution_count": 4,
     "metadata": {},
     "output_type": "execute_result"
    }
   ],
   "source": [
    "files[:3]"
   ]
  },
  {
   "cell_type": "code",
   "execution_count": 5,
   "metadata": {},
   "outputs": [],
   "source": [
    "NAME='E2E-ForgeryDetection'"
   ]
  },
  {
   "cell_type": "code",
   "execution_count": 6,
   "metadata": {},
   "outputs": [],
   "source": [
    "with open('/tmp/inputlist_{}'.format(NAME), 'wt') as f:\n",
    "    f.write(\"\\n\".join(files))"
   ]
  },
  {
   "cell_type": "code",
   "execution_count": 7,
   "metadata": {},
   "outputs": [
    {
     "name": "stdout",
     "output_type": "stream",
     "text": [
      "/global/home/users/lizhen/mydev/deep_fake_review/data/DFGC-2021-crop/yZzzzzz_849853/id24_id26_0004_00060.jpg\r\n",
      "/global/home/users/lizhen/mydev/deep_fake_review/data/DFGC-2021-crop/yZzzzzz_849853/id28_id0_0009_00120.jpg\r\n",
      "/global/home/users/lizhen/mydev/deep_fake_review/data/DFGC-2021-crop/yZzzzzz_849853/id9_id6_0005_00060.jpg\r\n"
     ]
    }
   ],
   "source": [
    "!head -n 3 /tmp/inputlist_$NAME"
   ]
  },
  {
   "cell_type": "code",
   "execution_count": 8,
   "metadata": {},
   "outputs": [],
   "source": [
    "!mkdir -p results/$NAME"
   ]
  },
  {
   "cell_type": "code",
   "execution_count": 18,
   "metadata": {},
   "outputs": [
    {
     "name": "stdout",
     "output_type": "stream",
     "text": [
      "ERROR conda.cli.main_run:execute(32): Subprocess for 'conda run ['python', '../E2E-ForgeryDetection_test.py', '-i', '/tmp/inputlist_E2E-ForgeryDetection', '--output', '../results/E2E-ForgeryDetection/dfgc2021.txt']' command failed.  (See above for error)\n",
      "Starting E2E Forgery Detection\n",
      "Model: E2E-FUSION\n",
      "num of images= 18000\n",
      "Processing image:  /global/home/users/lizhen/mydev/deep_fake_review/data/DFGC-2021-crop/yZzzzzz_849853/id24_id26_0004_00060.jpg\n",
      "Image is too small:/global/home/users/lizhen/mydev/deep_fake_review/data/DFGC-2021-crop/yZzzzzz_849853/id24_id26_0004_00060.jpg\n",
      "Processing image:  /global/home/users/lizhen/mydev/deep_fake_review/data/DFGC-2021-crop/yZzzzzz_849853/id28_id0_0009_00120.jpg\n",
      "Image is too small:/global/home/users/lizhen/mydev/deep_fake_review/data/DFGC-2021-crop/yZzzzzz_849853/id28_id0_0009_00120.jpg\n",
      "Processing image:  /global/home/users/lizhen/mydev/deep_fake_review/data/DFGC-2021-crop/yZzzzzz_849853/id9_id6_0005_00060.jpg\n",
      "Image is too small:/global/home/users/lizhen/mydev/deep_fake_review/data/DFGC-2021-crop/yZzzzzz_849853/id9_id6_0005_00060.jpg\n",
      "Processing image:  /global/home/users/lizhen/mydev/deep_fake_review/data/DFGC-2021-crop/yZzzzzz_849853/id30_id3_0006_00060.jpg\n",
      "Image is too small:/global/home/users/lizhen/mydev/deep_fake_review/data/DFGC-2021-crop/yZzzzzz_849853/id30_id3_0006_00060.jpg\n",
      "Processing image:  /global/home/users/lizhen/mydev/deep_fake_review/data/DFGC-2021-crop/yZzzzzz_849853/id24_id20_0009_00000.jpg\n",
      "Image is too small:/global/home/users/lizhen/mydev/deep_fake_review/data/DFGC-2021-crop/yZzzzzz_849853/id24_id20_0009_00000.jpg\n",
      "Processing image:  /global/home/users/lizhen/mydev/deep_fake_review/data/DFGC-2021-crop/yZzzzzz_849853/id13_id10_0005_00120.jpg\n",
      "Image is too small:/global/home/users/lizhen/mydev/deep_fake_review/data/DFGC-2021-crop/yZzzzzz_849853/id13_id10_0005_00120.jpg\n",
      "Processing image:  /global/home/users/lizhen/mydev/deep_fake_review/data/DFGC-2021-crop/yZzzzzz_849853/id30_id23_0007_00120.jpg\n",
      "Image is too small:/global/home/users/lizhen/mydev/deep_fake_review/data/DFGC-2021-crop/yZzzzzz_849853/id30_id23_0007_00120.jpg\n",
      "Processing image:  /global/home/users/lizhen/mydev/deep_fake_review/data/DFGC-2021-crop/yZzzzzz_849853/id9_id20_0002_00060.jpg\n",
      "Image is too small:/global/home/users/lizhen/mydev/deep_fake_review/data/DFGC-2021-crop/yZzzzzz_849853/id9_id20_0002_00060.jpg\n",
      "Processing image:  /global/home/users/lizhen/mydev/deep_fake_review/data/DFGC-2021-crop/yZzzzzz_849853/id0_id16_0003_00120.jpg\n",
      "Image is too small:/global/home/users/lizhen/mydev/deep_fake_review/data/DFGC-2021-crop/yZzzzzz_849853/id0_id16_0003_00120.jpg\n",
      "Processing image:  /global/home/users/lizhen/mydev/deep_fake_review/data/DFGC-2021-crop/yZzzzzz_849853/id30_id21_0005_00120.jpg\n",
      "Image is too small:/global/home/users/lizhen/mydev/deep_fake_review/data/DFGC-2021-crop/yZzzzzz_849853/id30_id21_0005_00120.jpg\n",
      "Processing image:  /global/home/users/lizhen/mydev/deep_fake_review/data/DFGC-2021-crop/yZzzzzz_849853/id13_id7_0000_00060.jpg\n",
      "Image is too small:/global/home/users/lizhen/mydev/deep_fake_review/data/DFGC-2021-crop/yZzzzzz_849853/id13_id7_0000_00060.jpg\n",
      "Processing image:  /global/home/users/lizhen/mydev/deep_fake_review/data/DFGC-2021-crop/yZzzzzz_849853/id1_id16_0004_00120.jpg\n",
      "Image is too small:/global/home/users/lizhen/mydev/deep_fake_review/data/DFGC-2021-crop/yZzzzzz_849853/id1_id16_0004_00120.jpg\n",
      "\n",
      "Traceback (most recent call last):\n",
      "  File \"../E2E-ForgeryDetection_test.py\", line 91, in <module>\n",
      "    print('AUC: ' + str(metrics.roc_auc_score(targets[:len(scores)], scores)))\n",
      "  File \"/global/home/users/lizhen/.conda/envs/E2E-ForgeryDetection/lib/python3.5/site-packages/sklearn/metrics/ranking.py\", line 277, in roc_auc_score\n",
      "    sample_weight=sample_weight)\n",
      "  File \"/global/home/users/lizhen/.conda/envs/E2E-ForgeryDetection/lib/python3.5/site-packages/sklearn/metrics/base.py\", line 75, in _average_binary_score\n",
      "    return binary_metric(y_true, y_score, sample_weight=sample_weight)\n",
      "  File \"/global/home/users/lizhen/.conda/envs/E2E-ForgeryDetection/lib/python3.5/site-packages/sklearn/metrics/ranking.py\", line 272, in _binary_roc_auc_score\n",
      "    sample_weight=sample_weight)\n",
      "  File \"/global/home/users/lizhen/.conda/envs/E2E-ForgeryDetection/lib/python3.5/site-packages/sklearn/metrics/ranking.py\", line 534, in roc_curve\n",
      "    y_true, y_score, pos_label=pos_label, sample_weight=sample_weight)\n",
      "  File \"/global/home/users/lizhen/.conda/envs/E2E-ForgeryDetection/lib/python3.5/site-packages/sklearn/metrics/ranking.py\", line 324, in _binary_clf_curve\n",
      "    assert_all_finite(y_score)\n",
      "  File \"/global/home/users/lizhen/.conda/envs/E2E-ForgeryDetection/lib/python3.5/site-packages/sklearn/utils/validation.py\", line 54, in assert_all_finite\n",
      "    _assert_all_finite(X.data if sp.issparse(X) else X)\n",
      "  File \"/global/home/users/lizhen/.conda/envs/E2E-ForgeryDetection/lib/python3.5/site-packages/sklearn/utils/validation.py\", line 44, in _assert_all_finite\n",
      "    \" or a value too large for %r.\" % X.dtype)\n",
      "ValueError: Input contains NaN, infinity or a value too large for dtype('float64').\n",
      "\n",
      "CPU times: user 169 ms, sys: 37.8 ms, total: 206 ms\n",
      "Wall time: 10.6 s\n"
     ]
    }
   ],
   "source": [
    "%%time\n",
    "!cd $NAME && \\\n",
    "PYTHONPATH=. conda run -n $NAME \\\n",
    "python  ../E2E-ForgeryDetection_test.py \\\n",
    "-i /tmp/inputlist_$NAME \\\n",
    "--output ../results/$NAME/dfgc2021.txt"
   ]
  },
  {
   "cell_type": "code",
   "execution_count": 10,
   "metadata": {},
   "outputs": [
    {
     "name": "stdout",
     "output_type": "stream",
     "text": [
      "wc: results/E2E-ForgeryDetection/dfgc2021.txt: No such file or directory\r\n"
     ]
    }
   ],
   "source": [
    "!wc -l  results/$NAME/dfgc2021.txt"
   ]
  },
  {
   "cell_type": "code",
   "execution_count": 11,
   "metadata": {},
   "outputs": [
    {
     "name": "stdout",
     "output_type": "stream",
     "text": [
      "head: cannot open 'results/E2E-ForgeryDetection/dfgc2021.txt' for reading: No such file or directory\r\n"
     ]
    }
   ],
   "source": [
    "!head results/$NAME/dfgc2021.txt"
   ]
  },
  {
   "cell_type": "code",
   "execution_count": null,
   "metadata": {},
   "outputs": [],
   "source": []
  }
 ],
 "metadata": {
  "kernelspec": {
   "display_name": "Python 3",
   "language": "python",
   "name": "python3"
  },
  "language_info": {
   "codemirror_mode": {
    "name": "ipython",
    "version": 3
   },
   "file_extension": ".py",
   "mimetype": "text/x-python",
   "name": "python",
   "nbconvert_exporter": "python",
   "pygments_lexer": "ipython3",
   "version": "3.7.4"
  }
 },
 "nbformat": 4,
 "nbformat_minor": 2
}
