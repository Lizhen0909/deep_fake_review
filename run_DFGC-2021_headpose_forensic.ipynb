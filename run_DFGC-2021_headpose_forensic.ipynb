{
 "cells": [
  {
   "cell_type": "code",
   "execution_count": 1,
   "metadata": {},
   "outputs": [],
   "source": [
    "import os,sys"
   ]
  },
  {
   "cell_type": "code",
   "execution_count": 2,
   "metadata": {},
   "outputs": [],
   "source": [
    "files1=!find  `pwd`/data/DFGC-2021-crop/ -name \\*.jpg \n",
    "files2=!find `pwd`/data/DFGC-2021-crop/ -name \\*.png \n",
    "files=files1+files2"
   ]
  },
  {
   "cell_type": "code",
   "execution_count": 3,
   "metadata": {},
   "outputs": [
    {
     "data": {
      "text/plain": [
       "18000"
      ]
     },
     "execution_count": 3,
     "metadata": {},
     "output_type": "execute_result"
    }
   ],
   "source": [
    "len(files)"
   ]
  },
  {
   "cell_type": "code",
   "execution_count": 4,
   "metadata": {},
   "outputs": [
    {
     "data": {
      "text/plain": [
       "['/global/home/users/lizhen/mydev/deep_fake_review/data/DFGC-2021-crop/yZzzzzz_849853/id24_id26_0004_00060.jpg',\n",
       " '/global/home/users/lizhen/mydev/deep_fake_review/data/DFGC-2021-crop/yZzzzzz_849853/id28_id0_0009_00120.jpg',\n",
       " '/global/home/users/lizhen/mydev/deep_fake_review/data/DFGC-2021-crop/yZzzzzz_849853/id9_id6_0005_00060.jpg']"
      ]
     },
     "execution_count": 4,
     "metadata": {},
     "output_type": "execute_result"
    }
   ],
   "source": [
    "files[:3]"
   ]
  },
  {
   "cell_type": "code",
   "execution_count": 5,
   "metadata": {},
   "outputs": [],
   "source": [
    "with open('/tmp/inputlist', 'wt') as f:\n",
    "    f.write(\"\\n\".join(files))"
   ]
  },
  {
   "cell_type": "code",
   "execution_count": 6,
   "metadata": {},
   "outputs": [
    {
     "name": "stdout",
     "output_type": "stream",
     "text": [
      "/global/home/users/lizhen/mydev/deep_fake_review/data/DFGC-2021-crop/yZzzzzz_849853/id24_id26_0004_00060.jpg\r\n",
      "/global/home/users/lizhen/mydev/deep_fake_review/data/DFGC-2021-crop/yZzzzzz_849853/id28_id0_0009_00120.jpg\r\n",
      "/global/home/users/lizhen/mydev/deep_fake_review/data/DFGC-2021-crop/yZzzzzz_849853/id9_id6_0005_00060.jpg\r\n"
     ]
    }
   ],
   "source": [
    "!head -n 3 /tmp/inputlist"
   ]
  },
  {
   "cell_type": "code",
   "execution_count": 7,
   "metadata": {},
   "outputs": [],
   "source": [
    "!mkdir -p results/headpose_forensic/"
   ]
  },
  {
   "cell_type": "code",
   "execution_count": 14,
   "metadata": {},
   "outputs": [
    {
     "name": "stdout",
     "output_type": "stream",
     "text": [
      "('num of images=', 18000)\n",
      "\n",
      "CPU times: user 15 s, sys: 2.84 s, total: 17.8 s\n",
      "Wall time: 14min 25s\n"
     ]
    }
   ],
   "source": [
    "%%time\n",
    "!cd headpose_forensic && \\\n",
    "PYTHONPATH=. conda run -n headpose_forensic \\\n",
    "python  ../headpose_forensic_run_test.py \\\n",
    "--input_list_file /tmp/inputlist \\\n",
    "--classifier_path models/trained_models/R_full_mat_t_vec_model.p \\\n",
    "--save_file=../results/headpose_forensic/dfgc2021.json"
   ]
  },
  {
   "cell_type": "code",
   "execution_count": 17,
   "metadata": {},
   "outputs": [],
   "source": [
    "import json\n",
    "with open('results/headpose_forensic/dfgc2021.json', 'rt') as f:\n",
    "    l=json.load(f)"
   ]
  },
  {
   "cell_type": "code",
   "execution_count": 18,
   "metadata": {},
   "outputs": [
    {
     "data": {
      "text/plain": [
       "18000"
      ]
     },
     "execution_count": 18,
     "metadata": {},
     "output_type": "execute_result"
    }
   ],
   "source": [
    "len(l)"
   ]
  },
  {
   "cell_type": "code",
   "execution_count": 19,
   "metadata": {},
   "outputs": [
    {
     "data": {
      "text/plain": [
       "[{'file_name': '/global/home/users/lizhen/mydev/deep_fake_review/data/DFGC-2021-crop/yZzzzzz_849853/id24_id26_0004_00060.jpg',\n",
       "  'probability': 0.5980512303928244,\n",
       "  'optout': False},\n",
       " {'file_name': '/global/home/users/lizhen/mydev/deep_fake_review/data/DFGC-2021-crop/yZzzzzz_849853/id28_id0_0009_00120.jpg',\n",
       "  'probability': 0.09698245689302495,\n",
       "  'optout': False},\n",
       " {'file_name': '/global/home/users/lizhen/mydev/deep_fake_review/data/DFGC-2021-crop/yZzzzzz_849853/id9_id6_0005_00060.jpg',\n",
       "  'probability': 0.18260777326972863,\n",
       "  'optout': False},\n",
       " {'file_name': '/global/home/users/lizhen/mydev/deep_fake_review/data/DFGC-2021-crop/yZzzzzz_849853/id30_id3_0006_00060.jpg',\n",
       "  'probability': 0.42461110745736097,\n",
       "  'optout': False},\n",
       " {'file_name': '/global/home/users/lizhen/mydev/deep_fake_review/data/DFGC-2021-crop/yZzzzzz_849853/id24_id20_0009_00000.jpg',\n",
       "  'probability': 0.6066684854924521,\n",
       "  'optout': False}]"
      ]
     },
     "execution_count": 19,
     "metadata": {},
     "output_type": "execute_result"
    }
   ],
   "source": [
    "l[:5]"
   ]
  },
  {
   "cell_type": "code",
   "execution_count": null,
   "metadata": {},
   "outputs": [],
   "source": []
  }
 ],
 "metadata": {
  "kernelspec": {
   "display_name": "Python 3",
   "language": "python",
   "name": "python3"
  },
  "language_info": {
   "codemirror_mode": {
    "name": "ipython",
    "version": 3
   },
   "file_extension": ".py",
   "mimetype": "text/x-python",
   "name": "python",
   "nbconvert_exporter": "python",
   "pygments_lexer": "ipython3",
   "version": "3.7.4"
  }
 },
 "nbformat": 4,
 "nbformat_minor": 2
}
