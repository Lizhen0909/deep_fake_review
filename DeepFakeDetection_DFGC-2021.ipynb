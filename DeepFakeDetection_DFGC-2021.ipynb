{
 "cells": [
  {
   "cell_type": "markdown",
   "metadata": {},
   "source": [
    "# DFGC 2021"
   ]
  },
  {
   "cell_type": "markdown",
   "metadata": {},
   "source": [
    "### 1. Create feature"
   ]
  },
  {
   "cell_type": "code",
   "execution_count": 1,
   "metadata": {},
   "outputs": [],
   "source": [
    "import os,sys"
   ]
  },
  {
   "cell_type": "code",
   "execution_count": 2,
   "metadata": {},
   "outputs": [],
   "source": [
    "sys.path.insert(0,\"DeepFakeDetection/Experiments_DeepFakeDetection/\")"
   ]
  },
  {
   "cell_type": "code",
   "execution_count": 3,
   "metadata": {},
   "outputs": [],
   "source": [
    "\n",
    "import numpy as np\n",
    "import os\n",
    "import radialProfile\n",
    "import glob\n",
    "from matplotlib import pyplot as plt\n",
    "import pickle\n",
    "from scipy.interpolate import griddata\n",
    "import cv2"
   ]
  },
  {
   "cell_type": "code",
   "execution_count": 4,
   "metadata": {},
   "outputs": [],
   "source": [
    "files=!cat data/Celeb-DF-v2-crop/dfgc_train.csv|shuf \n",
    "files=[x.replace('/tmp/Celeb-DF-v2-crop/', 'data/Celeb-DF-v2-crop/Celeb-DF-v2-crop-train/') for x in files]\n",
    "files0=[x[:-2] for x in files if x.endswith('0')]\n",
    "files1=[x[:-2] for x in files if x.endswith('1')]\n"
   ]
  },
  {
   "cell_type": "code",
   "execution_count": 5,
   "metadata": {},
   "outputs": [
    {
     "data": {
      "text/plain": [
       "(5676, 42389)"
      ]
     },
     "execution_count": 5,
     "metadata": {},
     "output_type": "execute_result"
    }
   ],
   "source": [
    "len(files0),len(files1)"
   ]
  },
  {
   "cell_type": "code",
   "execution_count": 6,
   "metadata": {},
   "outputs": [
    {
     "name": "stdout",
     "output_type": "stream",
     "text": [
      "DATA Saved\n"
     ]
    }
   ],
   "source": [
    "\n",
    "data= {}\n",
    "epsilon = 1e-8\n",
    "N = 80\n",
    "y = []\n",
    "error = []\n",
    "\n",
    "number_iter = 1000\n",
    "\n",
    "psd1D_total = np.zeros([number_iter, N])\n",
    "label_total = np.zeros([number_iter])\n",
    "psd1D_org_mean = np.zeros(N)\n",
    "psd1D_org_std = np.zeros(N)\n",
    "\n",
    "\n",
    "cont = 0\n",
    "\n",
    "#fake data\n",
    "\n",
    "for filename in files1:\n",
    "    img = cv2.imread(filename,0)\n",
    "    \n",
    "    f = np.fft.fft2(img)\n",
    "    fshift = np.fft.fftshift(f)\n",
    "    fshift += epsilon\n",
    "    \n",
    "    magnitude_spectrum = 20*np.log(np.abs(fshift))\n",
    "    psd1D = radialProfile.azimuthalAverage(magnitude_spectrum)\n",
    "\n",
    "    # Calculate the azimuthally averaged 1D power spectrum\n",
    "    points = np.linspace(0,N,num=psd1D.size) # coordinates of a\n",
    "    xi = np.linspace(0,N,num=N) # coordinates for interpolation\n",
    "\n",
    "    interpolated = griddata(points,psd1D,xi,method='cubic')\n",
    "    interpolated /= interpolated[0]\n",
    "\n",
    "    psd1D_total[cont,:] = interpolated             \n",
    "    label_total[cont] = 1\n",
    "    cont+=1\n",
    "\n",
    "    if cont == number_iter:\n",
    "        break\n",
    "\n",
    "for x in range(N):\n",
    "    psd1D_org_mean[x] = np.mean(psd1D_total[:,x])\n",
    "    psd1D_org_std[x]= np.std(psd1D_total[:,x])\n",
    "    \n",
    "\n",
    "## real data\n",
    "psd1D_total2 = np.zeros([number_iter, N])\n",
    "label_total2 = np.zeros([number_iter])\n",
    "psd1D_org_mean2 = np.zeros(N)\n",
    "psd1D_org_std2 = np.zeros(N)\n",
    "\n",
    "cont = 0\n",
    "\n",
    "\n",
    "for filename in files0:\n",
    "    img = cv2.imread(filename,0)\n",
    "\n",
    "    f = np.fft.fft2(img)\n",
    "    fshift = np.fft.fftshift(f)\n",
    "    fshift += epsilon\n",
    "\n",
    "    magnitude_spectrum = 20*np.log(np.abs(fshift))\n",
    "\n",
    "    # Calculate the azimuthally averaged 1D power spectrum\n",
    "    psd1D = radialProfile.azimuthalAverage(magnitude_spectrum)\n",
    "\n",
    "    points = np.linspace(0,N,num=psd1D.size) # coordinates of a\n",
    "    xi = np.linspace(0,N,num=N) # coordinates for interpolation\n",
    "\n",
    "    interpolated = griddata(points,psd1D,xi,method='cubic')\n",
    "\n",
    "    interpolated /= interpolated[0]\n",
    "\n",
    "    psd1D_total2[cont,:] = interpolated             \n",
    "    label_total2[cont] = 0\n",
    "    cont+=1\n",
    "    \n",
    "    if cont == number_iter:\n",
    "        break\n",
    "\n",
    "for x in range(N):\n",
    "    psd1D_org_mean2[x] = np.mean(psd1D_total2[:,x])\n",
    "    psd1D_org_std2[x]= np.std(psd1D_total2[:,x])\n",
    "    \n",
    "\n",
    "y.append(psd1D_org_mean)\n",
    "y.append(psd1D_org_mean2)\n",
    "error.append(psd1D_org_std)\n",
    "error.append(psd1D_org_std2)\n",
    "\n",
    "psd1D_total_final = np.concatenate((psd1D_total,psd1D_total2), axis=0)\n",
    "label_total_final = np.concatenate((label_total,label_total2), axis=0)\n",
    "\n",
    "data[\"data\"] = psd1D_total_final\n",
    "data[\"label\"] = label_total_final\n",
    "\n",
    "output = open('dfgc2021_low_1000.pkl', 'wb')\n",
    "pickle.dump(data, output)\n",
    "output.close()\n",
    "\n",
    "print(\"DATA Saved\") "
   ]
  },
  {
   "cell_type": "markdown",
   "metadata": {},
   "source": [
    "### 2. Loading Features"
   ]
  },
  {
   "cell_type": "markdown",
   "metadata": {},
   "source": [
    "Now, we load the features. Either the pre-computed ones or the features that you have created."
   ]
  },
  {
   "cell_type": "code",
   "execution_count": 7,
   "metadata": {},
   "outputs": [],
   "source": [
    "import numpy as np\n",
    "import matplotlib.pyplot as plt\n",
    "import pickle\n",
    "\n",
    "# load feature file\n",
    "pkl_file = open('dfgc2021_low_1000.pkl', 'rb')\n",
    "data = pickle.load(pkl_file)\n",
    "pkl_file.close()\n",
    "X = data[\"data\"]\n",
    "y = data[\"label\"]"
   ]
  },
  {
   "cell_type": "markdown",
   "metadata": {},
   "source": [
    "We look at the label distribution, to be sure that we have a balanced dataset."
   ]
  },
  {
   "cell_type": "code",
   "execution_count": 8,
   "metadata": {},
   "outputs": [
    {
     "data": {
      "text/plain": [
       "[<matplotlib.lines.Line2D at 0x2acacff6ac90>]"
      ]
     },
     "execution_count": 8,
     "metadata": {},
     "output_type": "execute_result"
    },
    {
     "data": {
      "image/png": "[encoded data removed]",
      "text/plain": [
       "<Figure size 432x288 with 1 Axes>"
      ]
     },
     "metadata": {
      "needs_background": "light"
     },
     "output_type": "display_data"
    }
   ],
   "source": [
    "plt.plot(y)"
   ]
  },
  {
   "cell_type": "markdown",
   "metadata": {},
   "source": [
    "### 3. Check Spectrum"
   ]
  },
  {
   "cell_type": "markdown",
   "metadata": {},
   "source": [
    "We have a look to the spectrum"
   ]
  },
  {
   "cell_type": "code",
   "execution_count": 9,
   "metadata": {},
   "outputs": [
    {
     "data": {
      "text/plain": [
       "Text(0, 0.5, 'Power Spectrum')"
      ]
     },
     "execution_count": 9,
     "metadata": {},
     "output_type": "execute_result"
    },
    {
     "data": {
      "image/png": "[encoded data removed]",
      "text/plain": [
       "<Figure size 1080x648 with 1 Axes>"
      ]
     },
     "metadata": {
      "needs_background": "light"
     },
     "output_type": "display_data"
    }
   ],
   "source": [
    "num = int(X.shape[0]/2)\n",
    "num_feat = X.shape[1]\n",
    "\n",
    "psd1D_org_0 = np.zeros((num,num_feat))\n",
    "psd1D_org_1 = np.zeros((num,num_feat))\n",
    "psd1D_org_0_mean = np.zeros(num_feat)\n",
    "psd1D_org_0_std = np.zeros(num_feat)\n",
    "psd1D_org_1_mean = np.zeros(num_feat)\n",
    "psd1D_org_1_std = np.zeros(num_feat)\n",
    "\n",
    "cont_0=0\n",
    "cont_1=0\n",
    "\n",
    "# We separate real and fake using the label\n",
    "for x in range(X.shape[0]):\n",
    "    if y[x]==0:\n",
    "        psd1D_org_0[cont_0,:] = X[x,:]\n",
    "        cont_0+=1\n",
    "    elif y[x]==1:\n",
    "        psd1D_org_1[cont_1,:] = X[x,:]\n",
    "        cont_1+=1\n",
    "\n",
    "# We compute statistcis\n",
    "for x in range(num_feat):\n",
    "    psd1D_org_0_mean[x] = np.mean(psd1D_org_0[:,x])\n",
    "    psd1D_org_0_std[x]= np.std(psd1D_org_0[:,x])\n",
    "    psd1D_org_1_mean[x] = np.mean(psd1D_org_1[:,x])\n",
    "    psd1D_org_1_std[x]= np.std(psd1D_org_1[:,x])\n",
    "    \n",
    "# Plot\n",
    "x = np.arange(0, num_feat, 1)\n",
    "fig, ax = plt.subplots(figsize=(15, 9))\n",
    "ax.plot(x, psd1D_org_0_mean, alpha=0.5, color='red', label='Fake', linewidth =2.0)\n",
    "ax.fill_between(x, psd1D_org_0_mean - psd1D_org_0_std, psd1D_org_0_mean + psd1D_org_0_std, color='red', alpha=0.2)\n",
    "ax.plot(x, psd1D_org_1_mean, alpha=0.5, color='blue', label='Real', linewidth =2.0)\n",
    "ax.fill_between(x, psd1D_org_1_mean - psd1D_org_1_std, psd1D_org_1_mean + psd1D_org_1_std, color='blue', alpha=0.2)\n",
    "\n",
    "plt.tick_params(axis='x', labelsize=20)\n",
    "plt.tick_params(axis='y', labelsize=20)\n",
    "ax.legend(loc='best', prop={'size': 20})\n",
    "plt.xlabel(\"Spatial Frequency\", fontsize=20)\n",
    "plt.ylabel(\"Power Spectrum\", fontsize=20)\n",
    "#plt.savefig('1000_celeba.png', bbox_inches='tight')"
   ]
  },
  {
   "cell_type": "markdown",
   "metadata": {},
   "source": [
    "### 4. Classification"
   ]
  },
  {
   "cell_type": "markdown",
   "metadata": {},
   "source": [
    "Now we classify using the features."
   ]
  },
  {
   "cell_type": "code",
   "execution_count": 10,
   "metadata": {},
   "outputs": [
    {
     "name": "stdout",
     "output_type": "stream",
     "text": [
      "Average SVM: 0.5257499999999999\n",
      "Average SVM_r: 0.5295\n",
      "Average SVM_p: 0.5505000000000001\n",
      "Average LR: 0.5269999999999999\n"
     ]
    }
   ],
   "source": [
    "import numpy as np\n",
    "import matplotlib.pyplot as plt\n",
    "import pickle\n",
    "\n",
    "num = 10\n",
    "LR = 0\n",
    "SVM = 0\n",
    "SVM_r = 0\n",
    "SVM_p = 0\n",
    "\n",
    "\n",
    "for z in range(num):\n",
    "    # read python dict back from the file\n",
    "    pkl_file = open('dfgc2021_low_1000.pkl', 'rb')\n",
    "    \n",
    "    data = pickle.load(pkl_file)\n",
    "\n",
    "    pkl_file.close()\n",
    "    X = data[\"data\"]\n",
    "    y = data[\"label\"]\n",
    "\n",
    "\n",
    "    try:\n",
    "\n",
    "        from sklearn.model_selection import train_test_split\n",
    "        X_train, X_test, y_train, y_test = train_test_split(X, y, test_size = 0.2)\n",
    "\n",
    "        from sklearn.svm import SVC\n",
    "        svclassifier = SVC(kernel='linear')\n",
    "        svclassifier.fit(X_train, y_train)\n",
    "        #print('Accuracy on test set: {:.3f}'.format(svclassifier.score(X_test, y_test)))\n",
    "               \n",
    "        from sklearn.svm import SVC\n",
    "        svclassifier_r = SVC(C=6.37, kernel='rbf', gamma=0.86)\n",
    "        svclassifier_r.fit(X_train, y_train)\n",
    "        #print('Accuracy on test set: {:.3f}'.format(svclassifier_r.score(X_test, y_test)))\n",
    "                \n",
    "        from sklearn.svm import SVC\n",
    "        svclassifier_p = SVC(kernel='poly')\n",
    "        svclassifier_p.fit(X_train, y_train)\n",
    "        #print('Accuracy on test set: {:.3f}'.format(svclassifier_p.score(X_test, y_test)))\n",
    "        \n",
    "        from sklearn.linear_model import LogisticRegression\n",
    "        logreg = LogisticRegression(solver='liblinear', max_iter=1000)\n",
    "        logreg.fit(X_train, y_train)\n",
    "        #print('Accuracy on test set: {:.3f}'.format(logreg.score(X_test, y_test)))\n",
    "\n",
    "        \n",
    "        SVM+=svclassifier.score(X_test, y_test)\n",
    "        SVM_r+=svclassifier_r.score(X_test, y_test)\n",
    "        SVM_p+=svclassifier_p.score(X_test, y_test)\n",
    "        LR+=logreg.score(X_test, y_test)\n",
    "\n",
    "        \n",
    "    except:\n",
    "        num-=1\n",
    "        print(num)\n",
    "    \n",
    "print(\"Average SVM: \"+str(SVM/num))\n",
    "print(\"Average SVM_r: \"+str(SVM_r/num))\n",
    "print(\"Average SVM_p: \"+str(SVM_p/num))\n",
    "print(\"Average LR: \"+str(LR/num))"
   ]
  },
  {
   "cell_type": "code",
   "execution_count": null,
   "metadata": {},
   "outputs": [],
   "source": []
  }
 ],
 "metadata": {
  "kernelspec": {
   "display_name": "Python 3",
   "language": "python",
   "name": "python3"
  },
  "language_info": {
   "codemirror_mode": {
    "name": "ipython",
    "version": 3
   },
   "file_extension": ".py",
   "mimetype": "text/x-python",
   "name": "python",
   "nbconvert_exporter": "python",
   "pygments_lexer": "ipython3",
   "version": "3.7.4"
  }
 },
 "nbformat": 4,
 "nbformat_minor": 4
}
