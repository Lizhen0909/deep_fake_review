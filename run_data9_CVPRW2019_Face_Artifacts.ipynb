{
 "cells": [
  {
   "cell_type": "code",
   "execution_count": 1,
   "metadata": {},
   "outputs": [],
   "source": [
    "import os,sys"
   ]
  },
  {
   "cell_type": "code",
   "execution_count": 2,
   "metadata": {},
   "outputs": [],
   "source": [
    "files1=!find  `pwd`/data/data9/ -name \\*.jpg \n",
    "files2=!find `pwd`/data/data9/ -name \\*.png \n",
    "files=files1+files2 "
   ]
  },
  {
   "cell_type": "code",
   "execution_count": 3,
   "metadata": {},
   "outputs": [
    {
     "data": {
      "text/plain": [
       "74337"
      ]
     },
     "execution_count": 3,
     "metadata": {},
     "output_type": "execute_result"
    }
   ],
   "source": [
    "len(files)"
   ]
  },
  {
   "cell_type": "code",
   "execution_count": 4,
   "metadata": {},
   "outputs": [
    {
     "data": {
      "text/plain": [
       "['/global/home/users/lizhen/mydev/deep_fake_review/data/data9/faceapp/FaceApp_1595172258325.jpg',\n",
       " '/global/home/users/lizhen/mydev/deep_fake_review/data/data9/faceapp/FaceApp_1595169655304.jpg',\n",
       " '/global/home/users/lizhen/mydev/deep_fake_review/data/data9/faceapp/FaceApp_1595153374933.jpg']"
      ]
     },
     "execution_count": 4,
     "metadata": {},
     "output_type": "execute_result"
    }
   ],
   "source": [
    "files[:3]"
   ]
  },
  {
   "cell_type": "code",
   "execution_count": 5,
   "metadata": {},
   "outputs": [],
   "source": [
    "with open('/tmp/inputlist_CVPRW2019_Face_Artifacts', 'wt') as f:\n",
    "    f.write(\"\\n\".join(files))"
   ]
  },
  {
   "cell_type": "code",
   "execution_count": 6,
   "metadata": {},
   "outputs": [
    {
     "name": "stdout",
     "output_type": "stream",
     "text": [
      "/global/home/users/lizhen/mydev/deep_fake_review/data/data9/faceapp/FaceApp_1595172258325.jpg\r\n",
      "/global/home/users/lizhen/mydev/deep_fake_review/data/data9/faceapp/FaceApp_1595169655304.jpg\r\n",
      "/global/home/users/lizhen/mydev/deep_fake_review/data/data9/faceapp/FaceApp_1595153374933.jpg\r\n"
     ]
    }
   ],
   "source": [
    "!head -n 3 /tmp/inputlist_CVPRW2019_Face_Artifacts"
   ]
  },
  {
   "cell_type": "code",
   "execution_count": 7,
   "metadata": {},
   "outputs": [],
   "source": [
    "!mkdir -p results/CVPRW2019_Face_Artifacts/"
   ]
  },
  {
   "cell_type": "code",
   "execution_count": 8,
   "metadata": {},
   "outputs": [
    {
     "name": "stdout",
     "output_type": "stream",
     "text": [
      "***********\n",
      "Detecting DeepFake images, prob == -1 denotes opt out\n",
      "***********\n",
      "/global/home/users/lizhen/mydev/deep_fake_review/CVPRW2019_Face_Artifacts\n",
      "Loading checkpoint /global/home/users/lizhen/mydev/deep_fake_review/CVPRW2019_Face_Artifacts/ckpt_res50/model\n",
      "('num of images=', 74337)\n",
      "\n",
      "2021-08-13 09:45:16.772126: W tensorflow/core/platform/cpu_feature_guard.cc:45] The TensorFlow library wasn't compiled to use SSE4.1 instructions, but these are available on your machine and could speed up CPU computations.\n",
      "2021-08-13 09:45:16.772177: W tensorflow/core/platform/cpu_feature_guard.cc:45] The TensorFlow library wasn't compiled to use SSE4.2 instructions, but these are available on your machine and could speed up CPU computations.\n",
      "2021-08-13 09:45:16.772186: W tensorflow/core/platform/cpu_feature_guard.cc:45] The TensorFlow library wasn't compiled to use AVX instructions, but these are available on your machine and could speed up CPU computations.\n",
      "2021-08-13 09:45:16.772193: W tensorflow/core/platform/cpu_feature_guard.cc:45] The TensorFlow library wasn't compiled to use AVX2 instructions, but these are available on your machine and could speed up CPU computations.\n",
      "2021-08-13 09:45:16.772199: W tensorflow/core/platform/cpu_feature_guard.cc:45] The TensorFlow library wasn't compiled to use FMA instructions, but these are available on your machine and could speed up CPU computations.\n",
      "100%|██████████| 74337/74337 [4:44:32<00:00,  4.35it/s]   2.47it/s]   | 18552/74337 [1:31:40<2:34:25,  6.02it/s]�██▋     | 34972/74337 [2:15:00<1:47:59,  6.08it/s] [2:56:09<2:33:40,  2.80it/s]████▊  | 58133/74337 [3:36:54<1:44:03,  2.60it/s]4321/74337 [4:17:38<1:05:43,  2.54it/s]\n",
      "\n",
      "CPU times: user 3min 58s, sys: 37.2 s, total: 4min 35s\n",
      "Wall time: 4h 45min 51s\n"
     ]
    }
   ],
   "source": [
    "%%time\n",
    "!cd CVPRW2019_Face_Artifacts && \\\n",
    "PYTHONPATH=. conda run -n CVPRW2019_Face_Artifacts \\\n",
    "python  ../CVPRW2019_Face_Artifacts_run_demo.py \\\n",
    "--input_list_file /tmp/inputlist_CVPRW2019_Face_Artifacts \\\n",
    "--save_file=../results/CVPRW2019_Face_Artifacts/data9.json"
   ]
  },
  {
   "cell_type": "code",
   "execution_count": 9,
   "metadata": {},
   "outputs": [
    {
     "data": {
      "text/plain": [
       "74337"
      ]
     },
     "execution_count": 9,
     "metadata": {},
     "output_type": "execute_result"
    }
   ],
   "source": [
    "import json\n",
    "with open('results/CVPRW2019_Face_Artifacts/data9.json', 'rt') as f:\n",
    "    l=json.load(f)\n",
    "len(l)    "
   ]
  },
  {
   "cell_type": "code",
   "execution_count": 10,
   "metadata": {},
   "outputs": [
    {
     "data": {
      "text/plain": [
       "[{'file_name': '/global/home/users/lizhen/mydev/deep_fake_review/data/data9/faceapp/FaceApp_1595172258325.jpg',\n",
       "  'probability': 0.03178079426288605},\n",
       " {'file_name': '/global/home/users/lizhen/mydev/deep_fake_review/data/data9/faceapp/FaceApp_1595169655304.jpg',\n",
       "  'probability': -1.0},\n",
       " {'file_name': '/global/home/users/lizhen/mydev/deep_fake_review/data/data9/faceapp/FaceApp_1595153374933.jpg',\n",
       "  'probability': 0.0003336360678076744},\n",
       " {'file_name': '/global/home/users/lizhen/mydev/deep_fake_review/data/data9/faceapp/FaceApp_1595172214491.jpg',\n",
       "  'probability': -1.0},\n",
       " {'file_name': '/global/home/users/lizhen/mydev/deep_fake_review/data/data9/faceapp/FaceApp_1595163091432.jpg',\n",
       "  'probability': 0.00031931951525621116}]"
      ]
     },
     "execution_count": 10,
     "metadata": {},
     "output_type": "execute_result"
    }
   ],
   "source": [
    "l[:5]"
   ]
  },
  {
   "cell_type": "code",
   "execution_count": null,
   "metadata": {},
   "outputs": [],
   "source": []
  }
 ],
 "metadata": {
  "kernelspec": {
   "display_name": "Python 3",
   "language": "python",
   "name": "python3"
  },
  "language_info": {
   "codemirror_mode": {
    "name": "ipython",
    "version": 3
   },
   "file_extension": ".py",
   "mimetype": "text/x-python",
   "name": "python",
   "nbconvert_exporter": "python",
   "pygments_lexer": "ipython3",
   "version": "3.7.4"
  }
 },
 "nbformat": 4,
 "nbformat_minor": 2
}
