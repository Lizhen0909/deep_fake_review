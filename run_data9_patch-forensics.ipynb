{
 "cells": [
  {
   "cell_type": "code",
   "execution_count": 2,
   "metadata": {},
   "outputs": [],
   "source": [
    "import os,sys"
   ]
  },
  {
   "cell_type": "code",
   "execution_count": 3,
   "metadata": {},
   "outputs": [],
   "source": [
    "files1=!find  `pwd`/data/data9/ -name \\*.jpg \n",
    "files2=!find `pwd`/data/data9/ -name \\*.png \n",
    "files=files1+files2 "
   ]
  },
  {
   "cell_type": "code",
   "execution_count": 4,
   "metadata": {},
   "outputs": [
    {
     "data": {
      "text/plain": [
       "74337"
      ]
     },
     "execution_count": 4,
     "metadata": {},
     "output_type": "execute_result"
    }
   ],
   "source": [
    "len(files)"
   ]
  },
  {
   "cell_type": "code",
   "execution_count": 5,
   "metadata": {},
   "outputs": [
    {
     "data": {
      "text/plain": [
       "['/global/home/users/lizhen/mydev/deep_fake_review/data/data9/faceapp/FaceApp_1595172258325.jpg',\n",
       " '/global/home/users/lizhen/mydev/deep_fake_review/data/data9/faceapp/FaceApp_1595169655304.jpg',\n",
       " '/global/home/users/lizhen/mydev/deep_fake_review/data/data9/faceapp/FaceApp_1595153374933.jpg']"
      ]
     },
     "execution_count": 5,
     "metadata": {},
     "output_type": "execute_result"
    }
   ],
   "source": [
    "files[:3]"
   ]
  },
  {
   "cell_type": "code",
   "execution_count": 6,
   "metadata": {},
   "outputs": [],
   "source": [
    "NAME='patch-forensics'"
   ]
  },
  {
   "cell_type": "code",
   "execution_count": 7,
   "metadata": {},
   "outputs": [],
   "source": [
    "with open('/tmp/inputlist_{}'.format(NAME), 'wt') as f:\n",
    "    f.write(\"\\n\".join(files))"
   ]
  },
  {
   "cell_type": "code",
   "execution_count": 8,
   "metadata": {},
   "outputs": [
    {
     "name": "stdout",
     "output_type": "stream",
     "text": [
      "/global/home/users/lizhen/mydev/deep_fake_review/data/data9/faceapp/FaceApp_1595172258325.jpg\r\n",
      "/global/home/users/lizhen/mydev/deep_fake_review/data/data9/faceapp/FaceApp_1595169655304.jpg\r\n",
      "/global/home/users/lizhen/mydev/deep_fake_review/data/data9/faceapp/FaceApp_1595153374933.jpg\r\n"
     ]
    }
   ],
   "source": [
    "!head -n 3 /tmp/inputlist_$NAME"
   ]
  },
  {
   "cell_type": "code",
   "execution_count": 9,
   "metadata": {},
   "outputs": [],
   "source": [
    "!mkdir -p results/$NAME"
   ]
  },
  {
   "cell_type": "code",
   "execution_count": 10,
   "metadata": {
    "scrolled": true
   },
   "outputs": [
    {
     "name": "stdout",
     "output_type": "stream",
     "text": [
      "Using the following options from the train configuration file:\n",
      "[('batch_size', 32), ('checkpoints_dir', './checkpoints'), ('fake_class_id', 0), ('fineSize', 299), ('init_type', 'xavier'), ('isTrain', True), ('loadSize', 299), ('load_model', False), ('max_dataset_size', inf), ('model', 'patch_discriminator'), ('nThreads', 4), ('name', 'gp1-gan-winversion_seed0_xception_block2_constant_p20'), ('no_serial_batches', False), ('overwrite_config', False), ('prefix', ''), ('results_dir', './results/'), ('seed', 0), ('suffix', ''), ('which_model_netD', 'xception_block2')]\n",
      "Evaluating model: gp1-gan-winversion_seed0_xception_block2_constant_p20 epoch bestval\n",
      "On dataset (real): useless\n",
      "And dataset (fake): useless2\n",
      "initialize network with xavier\n",
      "model [PatchDiscriminatorModel] was created\n",
      "---------- Networks initialized -------------\n",
      "CustomXceptionNet(\n",
      "  (conv1): Conv2d(3, 32, kernel_size=(3, 3), stride=(2, 2), bias=False)\n",
      "  (bn1): BatchNorm2d(32, eps=1e-05, momentum=0.1, affine=True, track_running_stats=True)\n",
      "  (relu1): ReLU(inplace=True)\n",
      "  (conv2): Conv2d(32, 64, kernel_size=(3, 3), stride=(1, 1), bias=False)\n",
      "  (bn2): BatchNorm2d(64, eps=1e-05, momentum=0.1, affine=True, track_running_stats=True)\n",
      "  (relu2): ReLU(inplace=True)\n",
      "  (block1): Block(\n",
      "    (skip): Conv2d(64, 128, kernel_size=(1, 1), stride=(2, 2), bias=False)\n",
      "    (skipbn): BatchNorm2d(128, eps=1e-05, momentum=0.1, affine=True, track_running_stats=True)\n",
      "    (rep): Sequential(\n",
      "      (0): SeparableConv2d(\n",
      "        (conv1): Conv2d(64, 64, kernel_size=(3, 3), stride=(1, 1), padding=(1, 1), groups=64, bias=False)\n",
      "        (pointwise): Conv2d(64, 128, kernel_size=(1, 1), stride=(1, 1), bias=False)\n",
      "      )\n",
      "      (1): BatchNorm2d(128, eps=1e-05, momentum=0.1, affine=True, track_running_stats=True)\n",
      "      (2): ReLU(inplace=True)\n",
      "      (3): SeparableConv2d(\n",
      "        (conv1): Conv2d(128, 128, kernel_size=(3, 3), stride=(1, 1), padding=(1, 1), groups=128, bias=False)\n",
      "        (pointwise): Conv2d(128, 128, kernel_size=(1, 1), stride=(1, 1), bias=False)\n",
      "      )\n",
      "      (4): BatchNorm2d(128, eps=1e-05, momentum=0.1, affine=True, track_running_stats=True)\n",
      "      (5): MaxPool2d(kernel_size=3, stride=2, padding=1, dilation=1, ceil_mode=False)\n",
      "    )\n",
      "  )\n",
      "  (block2): Block(\n",
      "    (skip): Conv2d(128, 256, kernel_size=(1, 1), stride=(2, 2), bias=False)\n",
      "    (skipbn): BatchNorm2d(256, eps=1e-05, momentum=0.1, affine=True, track_running_stats=True)\n",
      "    (rep): Sequential(\n",
      "      (0): ReLU()\n",
      "      (1): SeparableConv2d(\n",
      "        (conv1): Conv2d(128, 128, kernel_size=(3, 3), stride=(1, 1), padding=(1, 1), groups=128, bias=False)\n",
      "        (pointwise): Conv2d(128, 256, kernel_size=(1, 1), stride=(1, 1), bias=False)\n",
      "      )\n",
      "      (2): BatchNorm2d(256, eps=1e-05, momentum=0.1, affine=True, track_running_stats=True)\n",
      "      (3): ReLU(inplace=True)\n",
      "      (4): SeparableConv2d(\n",
      "        (conv1): Conv2d(256, 256, kernel_size=(3, 3), stride=(1, 1), padding=(1, 1), groups=256, bias=False)\n",
      "        (pointwise): Conv2d(256, 256, kernel_size=(1, 1), stride=(1, 1), bias=False)\n",
      "      )\n",
      "      (5): BatchNorm2d(256, eps=1e-05, momentum=0.1, affine=True, track_running_stats=True)\n",
      "      (6): MaxPool2d(kernel_size=3, stride=2, padding=1, dilation=1, ceil_mode=False)\n",
      "    )\n",
      "  )\n",
      "  (convout): Conv2d(256, 2, kernel_size=(1, 1), stride=(1, 1))\n",
      ")\n",
      "[Network D] Total number of parameters : 0.191 M\n",
      "-----------------------------------------------\n",
      "loading the model from ./checkpoints/gp1-gan-winversion_seed0_xception_block2_constant_p20/bestval_net_D.pth\n",
      "gpuid= []\n",
      "num of images= 74337\n",
      "Compose(\n",
      "    Resize(size=299, interpolation=PIL.Image.LANCZOS)\n",
      "    CenterCrop(size=(299, 299))\n",
      "    ToTensor()\n",
      "    Normalize(mean=(0.5, 0.5, 0.5), std=(0.5, 0.5, 0.5))\n",
      ")\n",
      "\n",
      "CPU times: user 45.5 s, sys: 6.97 s, total: 52.5 s\n",
      "Wall time: 50min 55s\n"
     ]
    }
   ],
   "source": [
    "%%time\n",
    "!cd $NAME && \\\n",
    "PYTHONPATH=. conda run -n $NAME \\\n",
    "python  ../run_patch-forensics.py \\\n",
    "-i /tmp/inputlist_$NAME \\\n",
    "--output ../results/$NAME/data9.txt \\\n",
    "--gpu_ids \"-1\" --which_epoch bestval \\\n",
    "--train_config checkpoints/gp1-gan-winversion_seed0_xception_block2_constant_p20/opt.yml \\\n",
    "--dataset_name donot_know --real_im_path useless --fake_im_path useless2 --partition useless"
   ]
  },
  {
   "cell_type": "code",
   "execution_count": 11,
   "metadata": {},
   "outputs": [
    {
     "name": "stdout",
     "output_type": "stream",
     "text": [
      "74337 results/patch-forensics/data9.txt\r\n"
     ]
    }
   ],
   "source": [
    "!wc -l  results/$NAME/data9.txt"
   ]
  },
  {
   "cell_type": "code",
   "execution_count": 12,
   "metadata": {},
   "outputs": [
    {
     "name": "stdout",
     "output_type": "stream",
     "text": [
      "/global/home/users/lizhen/mydev/deep_fake_review/data/data9/faceapp/FaceApp_1595172258325.jpg,0.5668,0.1344,0.5625\r\n",
      "/global/home/users/lizhen/mydev/deep_fake_review/data/data9/faceapp/FaceApp_1595169655304.jpg,0.4018,0.1916,0.4041\r\n",
      "/global/home/users/lizhen/mydev/deep_fake_review/data/data9/faceapp/FaceApp_1595153374933.jpg,0.1914,0.0000,0.1938\r\n",
      "/global/home/users/lizhen/mydev/deep_fake_review/data/data9/faceapp/FaceApp_1595172214491.jpg,0.2374,0.0000,0.2397\r\n",
      "/global/home/users/lizhen/mydev/deep_fake_review/data/data9/faceapp/FaceApp_1595163091432.jpg,0.2958,0.0011,0.3042\r\n",
      "/global/home/users/lizhen/mydev/deep_fake_review/data/data9/faceapp/FaceApp_1595172052975.jpg,0.1454,0.0001,0.1507\r\n",
      "/global/home/users/lizhen/mydev/deep_fake_review/data/data9/faceapp/FaceApp_1595160634105.jpg,0.1921,0.0000,0.1909\r\n",
      "/global/home/users/lizhen/mydev/deep_fake_review/data/data9/faceapp/FaceApp_1595162814107.jpg,0.3879,0.0210,0.3881\r\n",
      "/global/home/users/lizhen/mydev/deep_fake_review/data/data9/faceapp/FaceApp_1595171119134.jpg,0.4953,0.0770,0.4918\r\n",
      "/global/home/users/lizhen/mydev/deep_fake_review/data/data9/faceapp/FaceApp_1595173531575.jpg,0.5018,0.0310,0.4999\r\n"
     ]
    }
   ],
   "source": [
    "!head results/$NAME/data9.txt"
   ]
  },
  {
   "cell_type": "code",
   "execution_count": null,
   "metadata": {},
   "outputs": [],
   "source": []
  }
 ],
 "metadata": {
  "kernelspec": {
   "display_name": "Python 3",
   "language": "python",
   "name": "python3"
  },
  "language_info": {
   "codemirror_mode": {
    "name": "ipython",
    "version": 3
   },
   "file_extension": ".py",
   "mimetype": "text/x-python",
   "name": "python",
   "nbconvert_exporter": "python",
   "pygments_lexer": "ipython3",
   "version": "3.7.4"
  }
 },
 "nbformat": 4,
 "nbformat_minor": 2
}
